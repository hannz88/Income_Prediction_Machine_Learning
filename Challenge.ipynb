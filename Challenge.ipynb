{
 "cells": [
  {
   "cell_type": "markdown",
   "metadata": {},
   "source": [
    "# Data science challenge"
   ]
  },
  {
   "cell_type": "markdown",
   "metadata": {
    "heading_collapsed": "true"
   },
   "source": [
    "## Load library and data"
   ]
  },
  {
   "cell_type": "code",
   "execution_count": 87,
   "metadata": {},
   "outputs": [],
   "source": [
    "# load dependencies\n",
    "import numpy as np\n",
    "import pandas as pd\n",
    "import sklearn\n",
    "from zipfile import ZipFile\n",
    "from sklearn.preprocessing import MinMaxScaler\n",
    "import matplotlib.pyplot as plt\n",
    "plt.style.use(\"ggplot\")\n",
    "import seaborn as sns\n",
    "%matplotlib inline\n",
    "from ipywidgets import interactive, IntSlider\n",
    "from sklearn import tree\n",
    "backup = pd.HDFStore('backup.h5')"
   ]
  },
  {
   "cell_type": "code",
   "execution_count": 88,
   "metadata": {},
   "outputs": [],
   "source": [
    "# loading the data\n",
    "zipfile = ZipFile('census_data.zip')\n",
    "df = pd.read_csv(zipfile.open(\"census_data.csv\"))"
   ]
  },
  {
   "cell_type": "markdown",
   "metadata": {
    "heading_collapsed": "true"
   },
   "source": [
    "## Exploration"
   ]
  },
  {
   "cell_type": "code",
   "execution_count": 89,
   "metadata": {},
   "outputs": [
    {
     "data": {
      "text/html": [
       "<div>\n",
       "<style scoped>\n",
       "    .dataframe tbody tr th:only-of-type {\n",
       "        vertical-align: middle;\n",
       "    }\n",
       "\n",
       "    .dataframe tbody tr th {\n",
       "        vertical-align: top;\n",
       "    }\n",
       "\n",
       "    .dataframe thead th {\n",
       "        text-align: right;\n",
       "    }\n",
       "</style>\n",
       "<table border=\"1\" class=\"dataframe\">\n",
       "  <thead>\n",
       "    <tr style=\"text-align: right;\">\n",
       "      <th></th>\n",
       "      <th>age</th>\n",
       "      <th>class_of_worker</th>\n",
       "      <th>education</th>\n",
       "      <th>wage_per_hour</th>\n",
       "      <th>marital_status</th>\n",
       "      <th>major_industry_code</th>\n",
       "      <th>major_occupation_code</th>\n",
       "      <th>race</th>\n",
       "      <th>sex</th>\n",
       "      <th>full_or_part_time_employment_stat</th>\n",
       "      <th>capital_gains</th>\n",
       "      <th>capital_losses</th>\n",
       "      <th>divdends_from_stocks</th>\n",
       "      <th>live_in_this_house_1_year_ago</th>\n",
       "      <th>family_members_under</th>\n",
       "      <th>total_person_earnings</th>\n",
       "      <th>country_of_birth_father</th>\n",
       "      <th>country_of_birth_mother</th>\n",
       "      <th>country_of_birth_self</th>\n",
       "      <th>citizenship</th>\n",
       "      <th>own_business_or_self_employed</th>\n",
       "      <th>weeks_worked</th>\n",
       "      <th>earn_over_50k</th>\n",
       "    </tr>\n",
       "  </thead>\n",
       "  <tbody>\n",
       "    <tr>\n",
       "      <th>0</th>\n",
       "      <td>73</td>\n",
       "      <td>Not in universe</td>\n",
       "      <td>High school graduate</td>\n",
       "      <td>0</td>\n",
       "      <td>Widowed</td>\n",
       "      <td>Not in universe or children</td>\n",
       "      <td>Not in universe</td>\n",
       "      <td>White</td>\n",
       "      <td>Female</td>\n",
       "      <td>Not in labor force</td>\n",
       "      <td>0</td>\n",
       "      <td>0</td>\n",
       "      <td>0</td>\n",
       "      <td>Not in universe under 1 year old</td>\n",
       "      <td>0</td>\n",
       "      <td>Not in universe</td>\n",
       "      <td>United-States</td>\n",
       "      <td>United-States</td>\n",
       "      <td>United-States</td>\n",
       "      <td>Native- Born in the United States</td>\n",
       "      <td>Not in universe</td>\n",
       "      <td>0</td>\n",
       "      <td>-50000</td>\n",
       "    </tr>\n",
       "    <tr>\n",
       "      <th>1</th>\n",
       "      <td>58</td>\n",
       "      <td>Self-employed-not incorporated</td>\n",
       "      <td>Some college but no degree</td>\n",
       "      <td>0</td>\n",
       "      <td>Divorced</td>\n",
       "      <td>Construction</td>\n",
       "      <td>Precision production craft &amp; repair</td>\n",
       "      <td>White</td>\n",
       "      <td>Male</td>\n",
       "      <td>Children or Armed Forces</td>\n",
       "      <td>0</td>\n",
       "      <td>0</td>\n",
       "      <td>0</td>\n",
       "      <td>No</td>\n",
       "      <td>1</td>\n",
       "      <td>Not in universe</td>\n",
       "      <td>United-States</td>\n",
       "      <td>United-States</td>\n",
       "      <td>United-States</td>\n",
       "      <td>Native- Born in the United States</td>\n",
       "      <td>Not in universe</td>\n",
       "      <td>52</td>\n",
       "      <td>-50000</td>\n",
       "    </tr>\n",
       "    <tr>\n",
       "      <th>2</th>\n",
       "      <td>18</td>\n",
       "      <td>Not in universe</td>\n",
       "      <td>10th grade</td>\n",
       "      <td>0</td>\n",
       "      <td>Never married</td>\n",
       "      <td>Not in universe or children</td>\n",
       "      <td>Not in universe</td>\n",
       "      <td>Asian or Pacific Islander</td>\n",
       "      <td>Female</td>\n",
       "      <td>Not in labor force</td>\n",
       "      <td>0</td>\n",
       "      <td>0</td>\n",
       "      <td>0</td>\n",
       "      <td>Not in universe under 1 year old</td>\n",
       "      <td>0</td>\n",
       "      <td>Not in universe</td>\n",
       "      <td>Vietnam</td>\n",
       "      <td>Vietnam</td>\n",
       "      <td>Vietnam</td>\n",
       "      <td>Foreign born- Not a citizen of U S</td>\n",
       "      <td>Not in universe</td>\n",
       "      <td>0</td>\n",
       "      <td>-50000</td>\n",
       "    </tr>\n",
       "    <tr>\n",
       "      <th>3</th>\n",
       "      <td>9</td>\n",
       "      <td>Not in universe</td>\n",
       "      <td>Children</td>\n",
       "      <td>0</td>\n",
       "      <td>Never married</td>\n",
       "      <td>Not in universe or children</td>\n",
       "      <td>Not in universe</td>\n",
       "      <td>White</td>\n",
       "      <td>Female</td>\n",
       "      <td>Children or Armed Forces</td>\n",
       "      <td>0</td>\n",
       "      <td>0</td>\n",
       "      <td>0</td>\n",
       "      <td>Yes</td>\n",
       "      <td>0</td>\n",
       "      <td>Both parents present</td>\n",
       "      <td>United-States</td>\n",
       "      <td>United-States</td>\n",
       "      <td>United-States</td>\n",
       "      <td>Native- Born in the United States</td>\n",
       "      <td>Not in universe</td>\n",
       "      <td>0</td>\n",
       "      <td>-50000</td>\n",
       "    </tr>\n",
       "    <tr>\n",
       "      <th>4</th>\n",
       "      <td>10</td>\n",
       "      <td>Not in universe</td>\n",
       "      <td>Children</td>\n",
       "      <td>0</td>\n",
       "      <td>Never married</td>\n",
       "      <td>Not in universe or children</td>\n",
       "      <td>Not in universe</td>\n",
       "      <td>White</td>\n",
       "      <td>Female</td>\n",
       "      <td>Children or Armed Forces</td>\n",
       "      <td>0</td>\n",
       "      <td>0</td>\n",
       "      <td>0</td>\n",
       "      <td>Yes</td>\n",
       "      <td>0</td>\n",
       "      <td>Both parents present</td>\n",
       "      <td>United-States</td>\n",
       "      <td>United-States</td>\n",
       "      <td>United-States</td>\n",
       "      <td>Native- Born in the United States</td>\n",
       "      <td>Not in universe</td>\n",
       "      <td>0</td>\n",
       "      <td>-50000</td>\n",
       "    </tr>\n",
       "  </tbody>\n",
       "</table>\n",
       "</div>"
      ],
      "text/plain": [
       "   age                 class_of_worker                   education  wage_per_hour marital_status          major_industry_code                major_occupation_code                       race     sex full_or_part_time_employment_stat  capital_gains  capital_losses  divdends_from_stocks     live_in_this_house_1_year_ago  family_members_under total_person_earnings country_of_birth_father country_of_birth_mother country_of_birth_self                         citizenship own_business_or_self_employed  weeks_worked earn_over_50k\n",
       "0   73                 Not in universe        High school graduate              0        Widowed  Not in universe or children                      Not in universe                      White  Female                Not in labor force              0               0                     0  Not in universe under 1 year old                     0       Not in universe           United-States           United-States         United-States   Native- Born in the United States               Not in universe             0        -50000\n",
       "1   58  Self-employed-not incorporated  Some college but no degree              0       Divorced                 Construction  Precision production craft & repair                      White    Male          Children or Armed Forces              0               0                     0                                No                     1       Not in universe           United-States           United-States         United-States   Native- Born in the United States               Not in universe            52        -50000\n",
       "2   18                 Not in universe                  10th grade              0  Never married  Not in universe or children                      Not in universe  Asian or Pacific Islander  Female                Not in labor force              0               0                     0  Not in universe under 1 year old                     0       Not in universe                 Vietnam                 Vietnam               Vietnam  Foreign born- Not a citizen of U S               Not in universe             0        -50000\n",
       "3    9                 Not in universe                    Children              0  Never married  Not in universe or children                      Not in universe                      White  Female          Children or Armed Forces              0               0                     0                               Yes                     0  Both parents present           United-States           United-States         United-States   Native- Born in the United States               Not in universe             0        -50000\n",
       "4   10                 Not in universe                    Children              0  Never married  Not in universe or children                      Not in universe                      White  Female          Children or Armed Forces              0               0                     0                               Yes                     0  Both parents present           United-States           United-States         United-States   Native- Born in the United States               Not in universe             0        -50000"
      ]
     },
     "execution_count": 89,
     "metadata": {},
     "output_type": "execute_result"
    }
   ],
   "source": [
    "# exploration\n",
    "pd.set_option('display.max_columns', 100)\n",
    "pd.set_option('display.width', 1000)\n",
    "df.head()"
   ]
  },
  {
   "cell_type": "code",
   "execution_count": 90,
   "metadata": {},
   "outputs": [
    {
     "data": {
      "text/plain": [
       "(199523, 23)"
      ]
     },
     "execution_count": 90,
     "metadata": {},
     "output_type": "execute_result"
    }
   ],
   "source": [
    "df.shape  # almost 200k row, and 23 columns"
   ]
  },
  {
   "cell_type": "code",
   "execution_count": 91,
   "metadata": {},
   "outputs": [
    {
     "data": {
      "text/html": [
       "<div>\n",
       "<style scoped>\n",
       "    .dataframe tbody tr th:only-of-type {\n",
       "        vertical-align: middle;\n",
       "    }\n",
       "\n",
       "    .dataframe tbody tr th {\n",
       "        vertical-align: top;\n",
       "    }\n",
       "\n",
       "    .dataframe thead th {\n",
       "        text-align: right;\n",
       "    }\n",
       "</style>\n",
       "<table border=\"1\" class=\"dataframe\">\n",
       "  <thead>\n",
       "    <tr style=\"text-align: right;\">\n",
       "      <th></th>\n",
       "      <th>age</th>\n",
       "      <th>wage_per_hour</th>\n",
       "      <th>capital_gains</th>\n",
       "      <th>capital_losses</th>\n",
       "      <th>divdends_from_stocks</th>\n",
       "      <th>family_members_under</th>\n",
       "      <th>weeks_worked</th>\n",
       "    </tr>\n",
       "  </thead>\n",
       "  <tbody>\n",
       "    <tr>\n",
       "      <th>count</th>\n",
       "      <td>199523.000000</td>\n",
       "      <td>199523.000000</td>\n",
       "      <td>199523.00000</td>\n",
       "      <td>199523.000000</td>\n",
       "      <td>199523.000000</td>\n",
       "      <td>199523.000000</td>\n",
       "      <td>199523.000000</td>\n",
       "    </tr>\n",
       "    <tr>\n",
       "      <th>mean</th>\n",
       "      <td>34.494199</td>\n",
       "      <td>55.426908</td>\n",
       "      <td>434.71899</td>\n",
       "      <td>37.313788</td>\n",
       "      <td>197.529533</td>\n",
       "      <td>1.956180</td>\n",
       "      <td>23.174897</td>\n",
       "    </tr>\n",
       "    <tr>\n",
       "      <th>std</th>\n",
       "      <td>22.310895</td>\n",
       "      <td>274.896454</td>\n",
       "      <td>4697.53128</td>\n",
       "      <td>271.896428</td>\n",
       "      <td>1984.163658</td>\n",
       "      <td>2.365126</td>\n",
       "      <td>24.411488</td>\n",
       "    </tr>\n",
       "    <tr>\n",
       "      <th>min</th>\n",
       "      <td>0.000000</td>\n",
       "      <td>0.000000</td>\n",
       "      <td>0.00000</td>\n",
       "      <td>0.000000</td>\n",
       "      <td>0.000000</td>\n",
       "      <td>0.000000</td>\n",
       "      <td>0.000000</td>\n",
       "    </tr>\n",
       "    <tr>\n",
       "      <th>25%</th>\n",
       "      <td>15.000000</td>\n",
       "      <td>0.000000</td>\n",
       "      <td>0.00000</td>\n",
       "      <td>0.000000</td>\n",
       "      <td>0.000000</td>\n",
       "      <td>0.000000</td>\n",
       "      <td>0.000000</td>\n",
       "    </tr>\n",
       "    <tr>\n",
       "      <th>50%</th>\n",
       "      <td>33.000000</td>\n",
       "      <td>0.000000</td>\n",
       "      <td>0.00000</td>\n",
       "      <td>0.000000</td>\n",
       "      <td>0.000000</td>\n",
       "      <td>1.000000</td>\n",
       "      <td>8.000000</td>\n",
       "    </tr>\n",
       "    <tr>\n",
       "      <th>75%</th>\n",
       "      <td>50.000000</td>\n",
       "      <td>0.000000</td>\n",
       "      <td>0.00000</td>\n",
       "      <td>0.000000</td>\n",
       "      <td>0.000000</td>\n",
       "      <td>4.000000</td>\n",
       "      <td>52.000000</td>\n",
       "    </tr>\n",
       "    <tr>\n",
       "      <th>max</th>\n",
       "      <td>90.000000</td>\n",
       "      <td>9999.000000</td>\n",
       "      <td>99999.00000</td>\n",
       "      <td>4608.000000</td>\n",
       "      <td>99999.000000</td>\n",
       "      <td>6.000000</td>\n",
       "      <td>52.000000</td>\n",
       "    </tr>\n",
       "  </tbody>\n",
       "</table>\n",
       "</div>"
      ],
      "text/plain": [
       "                 age  wage_per_hour  capital_gains  capital_losses  divdends_from_stocks  family_members_under   weeks_worked\n",
       "count  199523.000000  199523.000000   199523.00000   199523.000000         199523.000000         199523.000000  199523.000000\n",
       "mean       34.494199      55.426908      434.71899       37.313788            197.529533              1.956180      23.174897\n",
       "std        22.310895     274.896454     4697.53128      271.896428           1984.163658              2.365126      24.411488\n",
       "min         0.000000       0.000000        0.00000        0.000000              0.000000              0.000000       0.000000\n",
       "25%        15.000000       0.000000        0.00000        0.000000              0.000000              0.000000       0.000000\n",
       "50%        33.000000       0.000000        0.00000        0.000000              0.000000              1.000000       8.000000\n",
       "75%        50.000000       0.000000        0.00000        0.000000              0.000000              4.000000      52.000000\n",
       "max        90.000000    9999.000000    99999.00000     4608.000000          99999.000000              6.000000      52.000000"
      ]
     },
     "execution_count": 91,
     "metadata": {},
     "output_type": "execute_result"
    }
   ],
   "source": [
    "df.describe()"
   ]
  },
  {
   "cell_type": "code",
   "execution_count": 92,
   "metadata": {},
   "outputs": [
    {
     "data": {
      "text/plain": [
       "23"
      ]
     },
     "execution_count": 92,
     "metadata": {},
     "output_type": "execute_result"
    }
   ],
   "source": [
    "len(df.columns)  # 23 different columns"
   ]
  },
  {
   "cell_type": "code",
   "execution_count": 93,
   "metadata": {},
   "outputs": [
    {
     "data": {
      "text/plain": [
       "array(['-50000', '50000+.'], dtype=object)"
      ]
     },
     "execution_count": 93,
     "metadata": {},
     "output_type": "execute_result"
    }
   ],
   "source": [
    "df[\"earn_over_50k\"].unique()  # only two types"
   ]
  },
  {
   "cell_type": "code",
   "execution_count": 94,
   "metadata": {},
   "outputs": [
    {
     "data": {
      "text/plain": [
       "age                                  0\n",
       "class_of_worker                      0\n",
       "education                            0\n",
       "wage_per_hour                        0\n",
       "marital_status                       0\n",
       "major_industry_code                  0\n",
       "major_occupation_code                0\n",
       "race                                 0\n",
       "sex                                  0\n",
       "full_or_part_time_employment_stat    0\n",
       "capital_gains                        0\n",
       "capital_losses                       0\n",
       "divdends_from_stocks                 0\n",
       "live_in_this_house_1_year_ago        0\n",
       "family_members_under                 0\n",
       "total_person_earnings                0\n",
       "country_of_birth_father              0\n",
       "country_of_birth_mother              0\n",
       "country_of_birth_self                0\n",
       "citizenship                          0\n",
       "own_business_or_self_employed        0\n",
       "weeks_worked                         0\n",
       "earn_over_50k                        0\n",
       "dtype: int64"
      ]
     },
     "execution_count": 94,
     "metadata": {},
     "output_type": "execute_result"
    }
   ],
   "source": [
    "df.isnull().sum()  # no missing values seemingly"
   ]
  },
  {
   "cell_type": "code",
   "execution_count": 95,
   "metadata": {},
   "outputs": [
    {
     "data": {
      "text/plain": [
       "array([ 0, 52, 30, 49, 32, 15, 38, 48,  9, 24, 50, 10, 45, 43,  4, 26, 40,\n",
       "       20,  6, 12, 51,  1,  8, 39, 13, 16, 34, 14, 36, 44, 22, 41, 46, 28,\n",
       "       23, 35, 25, 17, 11, 37,  5, 42, 29,  2, 21, 19, 47,  3, 27,  7, 18,\n",
       "       33, 31])"
      ]
     },
     "execution_count": 95,
     "metadata": {},
     "output_type": "execute_result"
    }
   ],
   "source": [
    "df[\"weeks_worked\"].unique()"
   ]
  },
  {
   "cell_type": "code",
   "execution_count": 96,
   "metadata": {},
   "outputs": [
    {
     "data": {
      "text/plain": [
       "age                                   int64\n",
       "class_of_worker                      object\n",
       "education                            object\n",
       "wage_per_hour                         int64\n",
       "marital_status                       object\n",
       "major_industry_code                  object\n",
       "major_occupation_code                object\n",
       "race                                 object\n",
       "sex                                  object\n",
       "full_or_part_time_employment_stat    object\n",
       "capital_gains                         int64\n",
       "capital_losses                        int64\n",
       "divdends_from_stocks                  int64\n",
       "live_in_this_house_1_year_ago        object\n",
       "family_members_under                  int64\n",
       "total_person_earnings                object\n",
       "country_of_birth_father              object\n",
       "country_of_birth_mother              object\n",
       "country_of_birth_self                object\n",
       "citizenship                          object\n",
       "own_business_or_self_employed        object\n",
       "weeks_worked                          int64\n",
       "earn_over_50k                        object\n",
       "dtype: object"
      ]
     },
     "execution_count": 96,
     "metadata": {},
     "output_type": "execute_result"
    }
   ],
   "source": [
    "df.dtypes"
   ]
  },
  {
   "cell_type": "code",
   "execution_count": 97,
   "metadata": {},
   "outputs": [
    {
     "data": {
      "text/plain": [
       "['class_of_worker',\n",
       " 'education',\n",
       " 'marital_status',\n",
       " 'major_industry_code',\n",
       " 'major_occupation_code',\n",
       " 'race',\n",
       " 'sex',\n",
       " 'full_or_part_time_employment_stat',\n",
       " 'live_in_this_house_1_year_ago',\n",
       " 'total_person_earnings',\n",
       " 'country_of_birth_father',\n",
       " 'country_of_birth_mother',\n",
       " 'country_of_birth_self',\n",
       " 'citizenship',\n",
       " 'own_business_or_self_employed',\n",
       " 'earn_over_50k']"
      ]
     },
     "execution_count": 97,
     "metadata": {},
     "output_type": "execute_result"
    }
   ],
   "source": [
    "# function to return the list of columns of the type\n",
    "def get_cols_of_type(input_df, data_type):\n",
    "    '''\n",
    "    Takes a dataframe and dtype, eg. string, and returns a list of columns names of that dtype.\n",
    "    '''\n",
    "    output_list = []\n",
    "    dtype_dict = input_df.dtypes.to_dict()\n",
    "    for key in dtype_dict.keys():\n",
    "        if dtype_dict[key] == data_type:\n",
    "            output_list.append(key)\n",
    "    return output_list\n",
    "get_cols_of_type(df, \"object\")"
   ]
  },
  {
   "cell_type": "code",
   "execution_count": 98,
   "metadata": {},
   "outputs": [
    {
     "data": {
      "text/plain": [
       "['age',\n",
       " 'wage_per_hour',\n",
       " 'capital_gains',\n",
       " 'capital_losses',\n",
       " 'divdends_from_stocks',\n",
       " 'family_members_under',\n",
       " 'weeks_worked']"
      ]
     },
     "execution_count": 98,
     "metadata": {},
     "output_type": "execute_result"
    }
   ],
   "source": [
    "# display int datatypes from our dataframe\n",
    "get_cols_of_type(df, int)"
   ]
  },
  {
   "cell_type": "code",
   "execution_count": 99,
   "metadata": {},
   "outputs": [
    {
     "data": {
      "text/plain": [
       "['class_of_worker',\n",
       " 'education',\n",
       " 'marital_status',\n",
       " 'major_industry_code',\n",
       " 'major_occupation_code',\n",
       " 'race',\n",
       " 'sex',\n",
       " 'full_or_part_time_employment_stat',\n",
       " 'live_in_this_house_1_year_ago',\n",
       " 'total_person_earnings',\n",
       " 'country_of_birth_father',\n",
       " 'country_of_birth_mother',\n",
       " 'country_of_birth_self',\n",
       " 'citizenship',\n",
       " 'own_business_or_self_employed',\n",
       " 'earn_over_50k']"
      ]
     },
     "execution_count": 99,
     "metadata": {},
     "output_type": "execute_result"
    }
   ],
   "source": [
    "# display object datatypes from our dataframe\n",
    "get_cols_of_type(df, object)  # earn over 50k is still object"
   ]
  },
  {
   "cell_type": "code",
   "execution_count": 100,
   "metadata": {},
   "outputs": [],
   "source": [
    "# different column data types\n",
    "nominal_cols = [\"marital_status\", \"major_industry_code\", \"major_occupation_code\", \"race\", \"sex\", \"full_or_part_time_employment_stat\", \"live_in_this_house_1_year_ago\",\n",
    "               \"country_of_birth_father\", \"country_of_birth_mother\", \"country_of_birth_self\", \"total_person_earnings\", \"citizenship\", \"own_business_or_self_employed\",\n",
    "               \"class_of_worker\"]\n",
    "\n",
    "ordinal_cols = [\"education\"]\n",
    "\n",
    "interval_cols = []\n",
    "\n",
    "ratio_cols = [\"age\", \"wage_per_hour\", \"capital_gains\", \"divdends_from_stocks\", \"family_members_under\", \"capital_losses\", \"weeks_worked\" ]\n",
    "\n",
    "target_col = [\"earn_over_50k\"]"
   ]
  },
  {
   "cell_type": "code",
   "execution_count": 101,
   "metadata": {},
   "outputs": [],
   "source": [
    "# make sure I don't miss any columns\n",
    "assert len(nominal_cols+ordinal_cols+interval_cols+ratio_cols+target_col) == len(df.columns)"
   ]
  },
  {
   "cell_type": "code",
   "execution_count": 102,
   "metadata": {},
   "outputs": [
    {
     "name": "stdout",
     "output_type": "stream",
     "text": [
      "marital_status:\n",
      "['Divorced', 'Married-A F spouse present', 'Married-civilian spouse present', 'Married-spouse absent', 'Never married', 'Separated', 'Widowed']\n",
      "\n",
      "major_industry_code:\n",
      "['Agriculture', 'Armed Forces', 'Business and repair services', 'Communications', 'Construction', 'Education', 'Entertainment', 'Finance insurance and real estate', 'Forestry and fisheries', 'Hospital services', 'Manufacturing-durable goods', 'Manufacturing-nondurable goods', 'Medical except hospital', 'Mining', 'Not in universe or children', 'Other professional services', 'Personal services except private HH', 'Private household services', 'Public administration', 'Retail trade', 'Social services', 'Transportation', 'Utilities and sanitary services', 'Wholesale trade']\n",
      "\n",
      "major_occupation_code:\n",
      "['Adm support including clerical', 'Armed Forces', 'Executive admin and managerial', 'Farming forestry and fishing', 'Handlers equip cleaners etc', 'Machine operators assmblrs & inspctrs', 'Not in universe', 'Other service', 'Precision production craft & repair', 'Private household services', 'Professional specialty', 'Protective services', 'Sales', 'Technicians and related support', 'Transportation and material moving']\n",
      "\n",
      "race:\n",
      "['Amer Indian Aleut or Eskimo', 'Asian or Pacific Islander', 'Black', 'Other', 'White']\n",
      "\n",
      "sex:\n",
      "['Female', 'Male']\n",
      "\n",
      "full_or_part_time_employment_stat:\n",
      "['Children or Armed Forces', 'Full-time schedules', 'Not in labor force', 'PT for econ reasons usually FT', 'PT for econ reasons usually PT', 'PT for non-econ reasons usually FT', 'Unemployed full-time', 'Unemployed part- time']\n",
      "\n",
      "live_in_this_house_1_year_ago:\n",
      "['No', 'Not in universe under 1 year old', 'Yes']\n",
      "\n",
      "country_of_birth_father:\n",
      "['?', 'Cambodia', 'Canada', 'China', 'Columbia', 'Cuba', 'Dominican-Republic', 'Ecuador', 'El-Salvador', 'England', 'France', 'Germany', 'Greece', 'Guatemala', 'Haiti', 'Holand-Netherlands', 'Honduras', 'Hong Kong', 'Hungary', 'India', 'Iran', 'Ireland', 'Italy', 'Jamaica', 'Japan', 'Laos', 'Mexico', 'Nicaragua', 'Outlying-U S (Guam USVI etc)', 'Panama', 'Peru', 'Philippines', 'Poland', 'Portugal', 'Puerto-Rico', 'Scotland', 'South Korea', 'Taiwan', 'Thailand', 'Trinadad&Tobago', 'United-States', 'Vietnam', 'Yugoslavia']\n",
      "\n",
      "country_of_birth_mother:\n",
      "['?', 'Cambodia', 'Canada', 'China', 'Columbia', 'Cuba', 'Dominican-Republic', 'Ecuador', 'El-Salvador', 'England', 'France', 'Germany', 'Greece', 'Guatemala', 'Haiti', 'Holand-Netherlands', 'Honduras', 'Hong Kong', 'Hungary', 'India', 'Iran', 'Ireland', 'Italy', 'Jamaica', 'Japan', 'Laos', 'Mexico', 'Nicaragua', 'Outlying-U S (Guam USVI etc)', 'Panama', 'Peru', 'Philippines', 'Poland', 'Portugal', 'Puerto-Rico', 'Scotland', 'South Korea', 'Taiwan', 'Thailand', 'Trinadad&Tobago', 'United-States', 'Vietnam', 'Yugoslavia']\n",
      "\n",
      "country_of_birth_self:\n",
      "['?', 'Cambodia', 'Canada', 'China', 'Columbia', 'Cuba', 'Dominican-Republic', 'Ecuador', 'El-Salvador', 'England', 'France', 'Germany', 'Greece', 'Guatemala', 'Haiti', 'Holand-Netherlands', 'Honduras', 'Hong Kong', 'Hungary', 'India', 'Iran', 'Ireland', 'Italy', 'Jamaica', 'Japan', 'Laos', 'Mexico', 'Nicaragua', 'Outlying-U S (Guam USVI etc)', 'Panama', 'Peru', 'Philippines', 'Poland', 'Portugal', 'Puerto-Rico', 'Scotland', 'South Korea', 'Taiwan', 'Thailand', 'Trinadad&Tobago', 'United-States', 'Vietnam', 'Yugoslavia']\n",
      "\n",
      "total_person_earnings:\n",
      "['Both parents present', 'Father only present', 'Mother only present', 'Neither parent present', 'Not in universe']\n",
      "\n",
      "citizenship:\n",
      "['Foreign born- Not a citizen of U S', 'Foreign born- U S citizen by naturalization', 'Native- Born abroad of American Parent(s)', 'Native- Born in Puerto Rico or U S Outlying', 'Native- Born in the United States']\n",
      "\n",
      "own_business_or_self_employed:\n",
      "['No', 'Not in universe', 'Yes']\n",
      "\n",
      "class_of_worker:\n",
      "['Federal government', 'Local government', 'Never worked', 'Not in universe', 'Private', 'Self-employed-incorporated', 'Self-employed-not incorporated', 'State government', 'Without pay']\n",
      "\n"
     ]
    }
   ],
   "source": [
    "# get the unique value in nominal columns\n",
    "for feature in nominal_cols:\n",
    "    print(feature+\":\")\n",
    "    print(sorted(df[feature].unique()))\n",
    "    print(\"\")"
   ]
  },
  {
   "cell_type": "code",
   "execution_count": 103,
   "metadata": {},
   "outputs": [
    {
     "name": "stdout",
     "output_type": "stream",
     "text": [
      "United-States                   176989\n",
      "Mexico                            5767\n",
      "?                                 3393\n",
      "Puerto-Rico                       1400\n",
      "Germany                            851\n",
      "Philippines                        845\n",
      "Cuba                               837\n",
      "Canada                             700\n",
      "Dominican-Republic                 690\n",
      "El-Salvador                        689\n",
      "China                              478\n",
      "South Korea                        471\n",
      "England                            457\n",
      "Columbia                           434\n",
      "Italy                              419\n",
      "India                              408\n",
      "Vietnam                            391\n",
      "Poland                             381\n",
      "Guatemala                          344\n",
      "Japan                              339\n",
      "Jamaica                            320\n",
      "Peru                               268\n",
      "Ecuador                            258\n",
      "Haiti                              228\n",
      "Nicaragua                          218\n",
      "Taiwan                             201\n",
      "Portugal                           174\n",
      "Iran                               157\n",
      "Greece                             147\n",
      "Honduras                           144\n",
      "Ireland                            135\n",
      "France                             121\n",
      "Outlying-U S (Guam USVI etc)       119\n",
      "Thailand                           113\n",
      "Laos                               105\n",
      "Hong Kong                          100\n",
      "Cambodia                            95\n",
      "Hungary                             79\n",
      "Scotland                            75\n",
      "Trinadad&Tobago                     66\n",
      "Yugoslavia                          66\n",
      "Panama                              28\n",
      "Holand-Netherlands                  23\n",
      "Name: country_of_birth_self, dtype: int64\n"
     ]
    }
   ],
   "source": [
    "print(df.country_of_birth_self.value_counts())  # ? is missing value"
   ]
  },
  {
   "cell_type": "markdown",
   "metadata": {
    "heading_collapsed": "true"
   },
   "source": [
    "## Data cleaning"
   ]
  },
  {
   "cell_type": "code",
   "execution_count": 104,
   "metadata": {},
   "outputs": [
    {
     "data": {
      "text/plain": [
       "0    United-States\n",
       "dtype: object"
      ]
     },
     "execution_count": 104,
     "metadata": {},
     "output_type": "execute_result"
    }
   ],
   "source": [
    "df[\"country_of_birth_father\"].mode()"
   ]
  },
  {
   "cell_type": "code",
   "execution_count": 105,
   "metadata": {},
   "outputs": [],
   "source": [
    "# replace ?\n",
    "for feature in [\"country_of_birth_father\", \"country_of_birth_mother\", \"country_of_birth_self\"]:\n",
    "    ### fill in the following line with some logic to replace \"?\" by the modal country of birth\n",
    "    mode_series = df[feature].mode()\n",
    "    df[feature] = df[feature].replace([\"?\"], [mode_series])"
   ]
  },
  {
   "cell_type": "code",
   "execution_count": 106,
   "metadata": {},
   "outputs": [
    {
     "name": "stdout",
     "output_type": "stream",
     "text": [
      "marital_status:\n",
      "['Divorced', 'Married-A F spouse present', 'Married-civilian spouse present', 'Married-spouse absent', 'Never married', 'Separated', 'Widowed']\n",
      "\n",
      "major_industry_code:\n",
      "['Agriculture', 'Armed Forces', 'Business and repair services', 'Communications', 'Construction', 'Education', 'Entertainment', 'Finance insurance and real estate', 'Forestry and fisheries', 'Hospital services', 'Manufacturing-durable goods', 'Manufacturing-nondurable goods', 'Medical except hospital', 'Mining', 'Not in universe or children', 'Other professional services', 'Personal services except private HH', 'Private household services', 'Public administration', 'Retail trade', 'Social services', 'Transportation', 'Utilities and sanitary services', 'Wholesale trade']\n",
      "\n",
      "major_occupation_code:\n",
      "['Adm support including clerical', 'Armed Forces', 'Executive admin and managerial', 'Farming forestry and fishing', 'Handlers equip cleaners etc', 'Machine operators assmblrs & inspctrs', 'Not in universe', 'Other service', 'Precision production craft & repair', 'Private household services', 'Professional specialty', 'Protective services', 'Sales', 'Technicians and related support', 'Transportation and material moving']\n",
      "\n",
      "race:\n",
      "['Amer Indian Aleut or Eskimo', 'Asian or Pacific Islander', 'Black', 'Other', 'White']\n",
      "\n",
      "sex:\n",
      "['Female', 'Male']\n",
      "\n",
      "full_or_part_time_employment_stat:\n",
      "['Children or Armed Forces', 'Full-time schedules', 'Not in labor force', 'PT for econ reasons usually FT', 'PT for econ reasons usually PT', 'PT for non-econ reasons usually FT', 'Unemployed full-time', 'Unemployed part- time']\n",
      "\n",
      "live_in_this_house_1_year_ago:\n",
      "['No', 'Not in universe under 1 year old', 'Yes']\n",
      "\n",
      "country_of_birth_father:\n",
      "['Cambodia', 'Canada', 'China', 'Columbia', 'Cuba', 'Dominican-Republic', 'Ecuador', 'El-Salvador', 'England', 'France', 'Germany', 'Greece', 'Guatemala', 'Haiti', 'Holand-Netherlands', 'Honduras', 'Hong Kong', 'Hungary', 'India', 'Iran', 'Ireland', 'Italy', 'Jamaica', 'Japan', 'Laos', 'Mexico', 'Nicaragua', 'Outlying-U S (Guam USVI etc)', 'Panama', 'Peru', 'Philippines', 'Poland', 'Portugal', 'Puerto-Rico', 'Scotland', 'South Korea', 'Taiwan', 'Thailand', 'Trinadad&Tobago', 'United-States', 'Vietnam', 'Yugoslavia']\n",
      "\n",
      "country_of_birth_mother:\n",
      "['Cambodia', 'Canada', 'China', 'Columbia', 'Cuba', 'Dominican-Republic', 'Ecuador', 'El-Salvador', 'England', 'France', 'Germany', 'Greece', 'Guatemala', 'Haiti', 'Holand-Netherlands', 'Honduras', 'Hong Kong', 'Hungary', 'India', 'Iran', 'Ireland', 'Italy', 'Jamaica', 'Japan', 'Laos', 'Mexico', 'Nicaragua', 'Outlying-U S (Guam USVI etc)', 'Panama', 'Peru', 'Philippines', 'Poland', 'Portugal', 'Puerto-Rico', 'Scotland', 'South Korea', 'Taiwan', 'Thailand', 'Trinadad&Tobago', 'United-States', 'Vietnam', 'Yugoslavia']\n",
      "\n",
      "country_of_birth_self:\n",
      "['Cambodia', 'Canada', 'China', 'Columbia', 'Cuba', 'Dominican-Republic', 'Ecuador', 'El-Salvador', 'England', 'France', 'Germany', 'Greece', 'Guatemala', 'Haiti', 'Holand-Netherlands', 'Honduras', 'Hong Kong', 'Hungary', 'India', 'Iran', 'Ireland', 'Italy', 'Jamaica', 'Japan', 'Laos', 'Mexico', 'Nicaragua', 'Outlying-U S (Guam USVI etc)', 'Panama', 'Peru', 'Philippines', 'Poland', 'Portugal', 'Puerto-Rico', 'Scotland', 'South Korea', 'Taiwan', 'Thailand', 'Trinadad&Tobago', 'United-States', 'Vietnam', 'Yugoslavia']\n",
      "\n",
      "total_person_earnings:\n",
      "['Both parents present', 'Father only present', 'Mother only present', 'Neither parent present', 'Not in universe']\n",
      "\n",
      "citizenship:\n",
      "['Foreign born- Not a citizen of U S', 'Foreign born- U S citizen by naturalization', 'Native- Born abroad of American Parent(s)', 'Native- Born in Puerto Rico or U S Outlying', 'Native- Born in the United States']\n",
      "\n",
      "own_business_or_self_employed:\n",
      "['No', 'Not in universe', 'Yes']\n",
      "\n",
      "class_of_worker:\n",
      "['Federal government', 'Local government', 'Never worked', 'Not in universe', 'Private', 'Self-employed-incorporated', 'Self-employed-not incorporated', 'State government', 'Without pay']\n",
      "\n"
     ]
    }
   ],
   "source": [
    "# check if ? still there\n",
    "for feature in nominal_cols:\n",
    "    print(feature+\":\")\n",
    "    print(sorted(df[feature].unique()))\n",
    "    print(\"\")"
   ]
  },
  {
   "cell_type": "code",
   "execution_count": 107,
   "metadata": {},
   "outputs": [],
   "source": [
    "# remove not in universe\n",
    "df = df.replace(\"Not in universe\", \"null\").replace(\"Not in universe or children\", \"null\")\\\n",
    "                                          .replace(\"Not in universe under 1 year old\", \"null\")"
   ]
  },
  {
   "cell_type": "code",
   "execution_count": 108,
   "metadata": {},
   "outputs": [
    {
     "name": "stdout",
     "output_type": "stream",
     "text": [
      "marital_status:\n",
      "['Divorced', 'Married-A F spouse present', 'Married-civilian spouse present', 'Married-spouse absent', 'Never married', 'Separated', 'Widowed']\n",
      "\n",
      "major_industry_code:\n",
      "['Agriculture', 'Armed Forces', 'Business and repair services', 'Communications', 'Construction', 'Education', 'Entertainment', 'Finance insurance and real estate', 'Forestry and fisheries', 'Hospital services', 'Manufacturing-durable goods', 'Manufacturing-nondurable goods', 'Medical except hospital', 'Mining', 'Other professional services', 'Personal services except private HH', 'Private household services', 'Public administration', 'Retail trade', 'Social services', 'Transportation', 'Utilities and sanitary services', 'Wholesale trade', 'null']\n",
      "\n",
      "major_occupation_code:\n",
      "['Adm support including clerical', 'Armed Forces', 'Executive admin and managerial', 'Farming forestry and fishing', 'Handlers equip cleaners etc', 'Machine operators assmblrs & inspctrs', 'Other service', 'Precision production craft & repair', 'Private household services', 'Professional specialty', 'Protective services', 'Sales', 'Technicians and related support', 'Transportation and material moving', 'null']\n",
      "\n",
      "race:\n",
      "['Amer Indian Aleut or Eskimo', 'Asian or Pacific Islander', 'Black', 'Other', 'White']\n",
      "\n",
      "sex:\n",
      "['Female', 'Male']\n",
      "\n",
      "full_or_part_time_employment_stat:\n",
      "['Children or Armed Forces', 'Full-time schedules', 'Not in labor force', 'PT for econ reasons usually FT', 'PT for econ reasons usually PT', 'PT for non-econ reasons usually FT', 'Unemployed full-time', 'Unemployed part- time']\n",
      "\n",
      "live_in_this_house_1_year_ago:\n",
      "['No', 'Yes', 'null']\n",
      "\n",
      "country_of_birth_father:\n",
      "['Cambodia', 'Canada', 'China', 'Columbia', 'Cuba', 'Dominican-Republic', 'Ecuador', 'El-Salvador', 'England', 'France', 'Germany', 'Greece', 'Guatemala', 'Haiti', 'Holand-Netherlands', 'Honduras', 'Hong Kong', 'Hungary', 'India', 'Iran', 'Ireland', 'Italy', 'Jamaica', 'Japan', 'Laos', 'Mexico', 'Nicaragua', 'Outlying-U S (Guam USVI etc)', 'Panama', 'Peru', 'Philippines', 'Poland', 'Portugal', 'Puerto-Rico', 'Scotland', 'South Korea', 'Taiwan', 'Thailand', 'Trinadad&Tobago', 'United-States', 'Vietnam', 'Yugoslavia']\n",
      "\n",
      "country_of_birth_mother:\n",
      "['Cambodia', 'Canada', 'China', 'Columbia', 'Cuba', 'Dominican-Republic', 'Ecuador', 'El-Salvador', 'England', 'France', 'Germany', 'Greece', 'Guatemala', 'Haiti', 'Holand-Netherlands', 'Honduras', 'Hong Kong', 'Hungary', 'India', 'Iran', 'Ireland', 'Italy', 'Jamaica', 'Japan', 'Laos', 'Mexico', 'Nicaragua', 'Outlying-U S (Guam USVI etc)', 'Panama', 'Peru', 'Philippines', 'Poland', 'Portugal', 'Puerto-Rico', 'Scotland', 'South Korea', 'Taiwan', 'Thailand', 'Trinadad&Tobago', 'United-States', 'Vietnam', 'Yugoslavia']\n",
      "\n",
      "country_of_birth_self:\n",
      "['Cambodia', 'Canada', 'China', 'Columbia', 'Cuba', 'Dominican-Republic', 'Ecuador', 'El-Salvador', 'England', 'France', 'Germany', 'Greece', 'Guatemala', 'Haiti', 'Holand-Netherlands', 'Honduras', 'Hong Kong', 'Hungary', 'India', 'Iran', 'Ireland', 'Italy', 'Jamaica', 'Japan', 'Laos', 'Mexico', 'Nicaragua', 'Outlying-U S (Guam USVI etc)', 'Panama', 'Peru', 'Philippines', 'Poland', 'Portugal', 'Puerto-Rico', 'Scotland', 'South Korea', 'Taiwan', 'Thailand', 'Trinadad&Tobago', 'United-States', 'Vietnam', 'Yugoslavia']\n",
      "\n",
      "total_person_earnings:\n",
      "['Both parents present', 'Father only present', 'Mother only present', 'Neither parent present', 'null']\n",
      "\n",
      "citizenship:\n",
      "['Foreign born- Not a citizen of U S', 'Foreign born- U S citizen by naturalization', 'Native- Born abroad of American Parent(s)', 'Native- Born in Puerto Rico or U S Outlying', 'Native- Born in the United States']\n",
      "\n",
      "own_business_or_self_employed:\n",
      "['No', 'Yes', 'null']\n",
      "\n",
      "class_of_worker:\n",
      "['Federal government', 'Local government', 'Never worked', 'Private', 'Self-employed-incorporated', 'Self-employed-not incorporated', 'State government', 'Without pay', 'null']\n",
      "\n"
     ]
    }
   ],
   "source": [
    "# check if not in universe still there\n",
    "for feature in nominal_cols:\n",
    "    print(feature+\":\")\n",
    "    print(sorted(df[feature].unique()))\n",
    "    print(\"\")"
   ]
  },
  {
   "cell_type": "markdown",
   "metadata": {
    "heading_collapsed": "true"
   },
   "source": [
    "## Feature Engineering"
   ]
  },
  {
   "cell_type": "markdown",
   "metadata": {
    "heading_collapsed": "true"
   },
   "source": [
    "### Turn some column into binary data"
   ]
  },
  {
   "cell_type": "code",
   "execution_count": 109,
   "metadata": {},
   "outputs": [
    {
     "data": {
      "text/plain": [
       "null    197539\n",
       "No        1593\n",
       "Yes        391\n",
       "Name: own_business_or_self_employed, dtype: int64"
      ]
     },
     "execution_count": 109,
     "metadata": {},
     "output_type": "execute_result"
    }
   ],
   "source": [
    "df[\"own_business_or_self_employed\"].value_counts()"
   ]
  },
  {
   "cell_type": "code",
   "execution_count": 110,
   "metadata": {},
   "outputs": [],
   "source": [
    "# binarize\n",
    "col_bin = [\"sex\", \"live_in_this_house_1_year_ago\", \"country_of_birth_father\",\n",
    "            \"country_of_birth_mother\", \"country_of_birth_self\", \"own_business_or_self_employed\"]\n",
    "bin_cols=[\"is_male\", \"has_lived_in_this_house_1_year_ago\", \"born_usa_father\",\n",
    "                      \"born_usa_mother\", \"born_usa_self\", \"is_self_employed\"]"
   ]
  },
  {
   "cell_type": "code",
   "execution_count": 111,
   "metadata": {},
   "outputs": [],
   "source": [
    "# binarize the categories\n",
    "df[\"is_male\"] = np.where(df[\"sex\"]=='Male', 1, 0)\n",
    "df[\"has_lived_in_this_house_1_year_ago\"] = np.where(df[\"live_in_this_house_1_year_ago\"]=='Yes', 1, 0)\n",
    "df[\"born_usa_father\"] = np.where(df[\"country_of_birth_father\"]=='United-States',1,0)\n",
    "df[\"born_usa_mother\"] = np.where(df[\"country_of_birth_mother\"]=='United-States',1,0)\n",
    "df[\"born_usa_self\"] = np.where(df[\"country_of_birth_self\"]=='United-States',1,0)\n",
    "df[\"is_self_employed\"] = np.where(df[\"own_business_or_self_employed\"]==\"Yes\",1,0)"
   ]
  },
  {
   "cell_type": "markdown",
   "metadata": {
    "heading_collapsed": "true"
   },
   "source": [
    "### Drop off unused column"
   ]
  },
  {
   "cell_type": "code",
   "execution_count": 112,
   "metadata": {},
   "outputs": [
    {
     "data": {
      "text/plain": [
       "Index(['age', 'class_of_worker', 'education', 'wage_per_hour', 'marital_status', 'major_industry_code', 'major_occupation_code', 'race', 'full_or_part_time_employment_stat', 'capital_gains', 'capital_losses', 'divdends_from_stocks', 'family_members_under', 'total_person_earnings', 'citizenship', 'weeks_worked', 'earn_over_50k', 'is_male', 'has_lived_in_this_house_1_year_ago', 'born_usa_father', 'born_usa_mother', 'born_usa_self', 'is_self_employed'], dtype='object')"
      ]
     },
     "execution_count": 112,
     "metadata": {},
     "output_type": "execute_result"
    }
   ],
   "source": [
    "col_bin = [\"sex\", \"live_in_this_house_1_year_ago\", \"country_of_birth_father\",\n",
    "            \"country_of_birth_mother\", \"country_of_birth_self\", \"own_business_or_self_employed\"]\n",
    "df = df.drop(columns=col_bin)\n",
    "df.columns"
   ]
  },
  {
   "cell_type": "markdown",
   "metadata": {
    "heading_collapsed": "true"
   },
   "source": [
    "### Dealing with other nominal columns"
   ]
  },
  {
   "cell_type": "code",
   "execution_count": 113,
   "metadata": {},
   "outputs": [
    {
     "data": {
      "text/plain": [
       "['full_or_part_time_employment_stat',\n",
       " 'race',\n",
       " 'major_industry_code',\n",
       " 'major_occupation_code',\n",
       " 'citizenship',\n",
       " 'class_of_worker',\n",
       " 'marital_status',\n",
       " 'total_person_earnings']"
      ]
     },
     "execution_count": 113,
     "metadata": {},
     "output_type": "execute_result"
    }
   ],
   "source": [
    "remaining_nominal_cols = list(set(nominal_cols)-set(col_bin))\n",
    "remaining_nominal_cols\n",
    "# we'll use one-hot encoding later for it"
   ]
  },
  {
   "cell_type": "markdown",
   "metadata": {
    "heading_collapsed": "true"
   },
   "source": [
    "### Dealing with ordinal column"
   ]
  },
  {
   "cell_type": "code",
   "execution_count": 114,
   "metadata": {},
   "outputs": [
    {
     "data": {
      "text/plain": [
       "array(['High school graduate', 'Some college but no degree', '10th grade',\n",
       "       'Children', 'Bachelors degree(BA AB BS)',\n",
       "       'Masters degree(MA MS MEng MEd MSW MBA)', 'Less than 1st grade',\n",
       "       'Associates degree-academic program', '7th and 8th grade',\n",
       "       '12th grade no diploma', 'Associates degree-occup /vocational',\n",
       "       'Prof school degree (MD DDS DVM LLB JD)', '5th or 6th grade',\n",
       "       '11th grade', 'Doctorate degree(PhD EdD)', '9th grade',\n",
       "       '1st 2nd 3rd or 4th grade'], dtype=object)"
      ]
     },
     "execution_count": 114,
     "metadata": {},
     "output_type": "execute_result"
    }
   ],
   "source": [
    "df[\"education\"].unique()"
   ]
  },
  {
   "cell_type": "code",
   "execution_count": 115,
   "metadata": {},
   "outputs": [],
   "source": [
    "# create a dictionary to create some kind of ranking to it\n",
    "education_dict = {'Children':0,\n",
    "                 'Less than 1st grade':1,\n",
    "                 '1st 2nd 3rd or 4th grade':2,\n",
    "                 '5th or 6th grade':3,\n",
    "                 '7th and 8th grade':4,\n",
    "                  '9th grade':5,\n",
    " 'Associates degree-academic program':6,\n",
    " 'Associates degree-occup /vocational':7,\n",
    " 'Bachelors degree(BA AB BS)':8,\n",
    " 'Children':9,\n",
    " 'Doctorate degree(PhD EdD)':10,\n",
    " 'High school graduate':11,\n",
    " 'Less than 1st grade':12,\n",
    " 'Masters degree(MA MS MEng MEd MSW MBA)':13,\n",
    " 'Prof school degree (MD DDS DVM LLB JD)':14,\n",
    " 'Some college but no degree':15}"
   ]
  },
  {
   "cell_type": "code",
   "execution_count": 116,
   "metadata": {},
   "outputs": [],
   "source": [
    "# map the category into a number\n",
    "df[\"education\"] = df[\"education\"].map(education_dict)"
   ]
  },
  {
   "cell_type": "markdown",
   "metadata": {
    "heading_collapsed": "true"
   },
   "source": [
    "### Dealing with the target col"
   ]
  },
  {
   "cell_type": "code",
   "execution_count": 117,
   "metadata": {},
   "outputs": [],
   "source": [
    "# those earning < 50000 will be assigned 0\n",
    "target = np.where(df[\"earn_over_50k\"]==\"-50000\", 0, 1)"
   ]
  },
  {
   "cell_type": "markdown",
   "metadata": {},
   "source": [
    "### Combining features using column transformer and one-hot encoding"
   ]
  },
  {
   "cell_type": "markdown",
   "metadata": {},
   "source": [
    "Sklearn column transformer allows different columns to be transformed separately. Pipeline sequentially applies a list of transforms."
   ]
  },
  {
   "cell_type": "code",
   "execution_count": 34,
   "metadata": {},
   "outputs": [
    {
     "data": {
      "text/plain": [
       "['age',\n",
       " 'born_usa_father',\n",
       " 'born_usa_mother',\n",
       " 'born_usa_self',\n",
       " 'capital_gains',\n",
       " 'capital_losses',\n",
       " 'citizenship',\n",
       " 'class_of_worker',\n",
       " 'divdends_from_stocks',\n",
       " 'earn_over_50k',\n",
       " 'education',\n",
       " 'family_members_under',\n",
       " 'full_or_part_time_employment_stat',\n",
       " 'has_lived_in_this_house_1_year_ago',\n",
       " 'is_male',\n",
       " 'is_self_employed',\n",
       " 'major_industry_code',\n",
       " 'major_occupation_code',\n",
       " 'marital_status',\n",
       " 'race',\n",
       " 'total_person_earnings',\n",
       " 'wage_per_hour',\n",
       " 'weeks_worked']"
      ]
     },
     "execution_count": 34,
     "metadata": {},
     "output_type": "execute_result"
    }
   ],
   "source": [
    "sorted(df.columns)"
   ]
  },
  {
   "cell_type": "code",
   "execution_count": 35,
   "metadata": {},
   "outputs": [
    {
     "name": "stdout",
     "output_type": "stream",
     "text": [
      "full_or_part_time_employment_stat:\n",
      "['Children or Armed Forces', 'Full-time schedules', 'Not in labor force', 'PT for econ reasons usually FT', 'PT for econ reasons usually PT', 'PT for non-econ reasons usually FT', 'Unemployed full-time', 'Unemployed part- time']\n",
      "\n",
      "race:\n",
      "['Amer Indian Aleut or Eskimo', 'Asian or Pacific Islander', 'Black', 'Other', 'White']\n",
      "\n",
      "major_industry_code:\n",
      "['Agriculture', 'Armed Forces', 'Business and repair services', 'Communications', 'Construction', 'Education', 'Entertainment', 'Finance insurance and real estate', 'Forestry and fisheries', 'Hospital services', 'Manufacturing-durable goods', 'Manufacturing-nondurable goods', 'Medical except hospital', 'Mining', 'Other professional services', 'Personal services except private HH', 'Private household services', 'Public administration', 'Retail trade', 'Social services', 'Transportation', 'Utilities and sanitary services', 'Wholesale trade', 'null']\n",
      "\n",
      "major_occupation_code:\n",
      "['Adm support including clerical', 'Armed Forces', 'Executive admin and managerial', 'Farming forestry and fishing', 'Handlers equip cleaners etc', 'Machine operators assmblrs & inspctrs', 'Other service', 'Precision production craft & repair', 'Private household services', 'Professional specialty', 'Protective services', 'Sales', 'Technicians and related support', 'Transportation and material moving', 'null']\n",
      "\n",
      "citizenship:\n",
      "['Foreign born- Not a citizen of U S', 'Foreign born- U S citizen by naturalization', 'Native- Born abroad of American Parent(s)', 'Native- Born in Puerto Rico or U S Outlying', 'Native- Born in the United States']\n",
      "\n",
      "class_of_worker:\n",
      "['Federal government', 'Local government', 'Never worked', 'Private', 'Self-employed-incorporated', 'Self-employed-not incorporated', 'State government', 'Without pay', 'null']\n",
      "\n",
      "marital_status:\n",
      "['Divorced', 'Married-A F spouse present', 'Married-civilian spouse present', 'Married-spouse absent', 'Never married', 'Separated', 'Widowed']\n",
      "\n",
      "total_person_earnings:\n",
      "['Both parents present', 'Father only present', 'Mother only present', 'Neither parent present', 'null']\n",
      "\n"
     ]
    }
   ],
   "source": [
    "for feature in remaining_nominal_cols:\n",
    "    print(feature+\":\")\n",
    "    print(sorted(df[feature].unique()))\n",
    "    print(\"\")"
   ]
  },
  {
   "cell_type": "code",
   "execution_count": 36,
   "metadata": {},
   "outputs": [],
   "source": [
    "# get the columns of interest\n",
    "cols = sorted(list(set(df.columns) - set(['earn_over_50k'])))  # ie just columns of interest\n",
    "data = df[cols]"
   ]
  },
  {
   "cell_type": "code",
   "execution_count": 74,
   "metadata": {},
   "outputs": [],
   "source": [
    "# save the data\n",
    "backup[\"data_cleaned\"] = data"
   ]
  },
  {
   "cell_type": "code",
   "execution_count": 37,
   "metadata": {},
   "outputs": [
    {
     "data": {
      "text/html": [
       "<div>\n",
       "<style scoped>\n",
       "    .dataframe tbody tr th:only-of-type {\n",
       "        vertical-align: middle;\n",
       "    }\n",
       "\n",
       "    .dataframe tbody tr th {\n",
       "        vertical-align: top;\n",
       "    }\n",
       "\n",
       "    .dataframe thead th {\n",
       "        text-align: right;\n",
       "    }\n",
       "</style>\n",
       "<table border=\"1\" class=\"dataframe\">\n",
       "  <thead>\n",
       "    <tr style=\"text-align: right;\">\n",
       "      <th></th>\n",
       "      <th>age</th>\n",
       "      <th>born_usa_father</th>\n",
       "      <th>born_usa_mother</th>\n",
       "      <th>born_usa_self</th>\n",
       "      <th>capital_gains</th>\n",
       "      <th>capital_losses</th>\n",
       "      <th>citizenship</th>\n",
       "      <th>class_of_worker</th>\n",
       "      <th>divdends_from_stocks</th>\n",
       "      <th>education</th>\n",
       "      <th>family_members_under</th>\n",
       "      <th>full_or_part_time_employment_stat</th>\n",
       "      <th>has_lived_in_this_house_1_year_ago</th>\n",
       "      <th>is_male</th>\n",
       "      <th>is_self_employed</th>\n",
       "      <th>major_industry_code</th>\n",
       "      <th>major_occupation_code</th>\n",
       "      <th>marital_status</th>\n",
       "      <th>race</th>\n",
       "      <th>total_person_earnings</th>\n",
       "      <th>wage_per_hour</th>\n",
       "      <th>weeks_worked</th>\n",
       "    </tr>\n",
       "  </thead>\n",
       "  <tbody>\n",
       "    <tr>\n",
       "      <th>0</th>\n",
       "      <td>73</td>\n",
       "      <td>1</td>\n",
       "      <td>1</td>\n",
       "      <td>1</td>\n",
       "      <td>0</td>\n",
       "      <td>0</td>\n",
       "      <td>Native- Born in the United States</td>\n",
       "      <td>null</td>\n",
       "      <td>0</td>\n",
       "      <td>11.0</td>\n",
       "      <td>0</td>\n",
       "      <td>Not in labor force</td>\n",
       "      <td>0</td>\n",
       "      <td>0</td>\n",
       "      <td>0</td>\n",
       "      <td>null</td>\n",
       "      <td>null</td>\n",
       "      <td>Widowed</td>\n",
       "      <td>White</td>\n",
       "      <td>null</td>\n",
       "      <td>0</td>\n",
       "      <td>0</td>\n",
       "    </tr>\n",
       "    <tr>\n",
       "      <th>1</th>\n",
       "      <td>58</td>\n",
       "      <td>1</td>\n",
       "      <td>1</td>\n",
       "      <td>1</td>\n",
       "      <td>0</td>\n",
       "      <td>0</td>\n",
       "      <td>Native- Born in the United States</td>\n",
       "      <td>Self-employed-not incorporated</td>\n",
       "      <td>0</td>\n",
       "      <td>15.0</td>\n",
       "      <td>1</td>\n",
       "      <td>Children or Armed Forces</td>\n",
       "      <td>0</td>\n",
       "      <td>1</td>\n",
       "      <td>0</td>\n",
       "      <td>Construction</td>\n",
       "      <td>Precision production craft &amp; repair</td>\n",
       "      <td>Divorced</td>\n",
       "      <td>White</td>\n",
       "      <td>null</td>\n",
       "      <td>0</td>\n",
       "      <td>52</td>\n",
       "    </tr>\n",
       "    <tr>\n",
       "      <th>2</th>\n",
       "      <td>18</td>\n",
       "      <td>0</td>\n",
       "      <td>0</td>\n",
       "      <td>0</td>\n",
       "      <td>0</td>\n",
       "      <td>0</td>\n",
       "      <td>Foreign born- Not a citizen of U S</td>\n",
       "      <td>null</td>\n",
       "      <td>0</td>\n",
       "      <td>NaN</td>\n",
       "      <td>0</td>\n",
       "      <td>Not in labor force</td>\n",
       "      <td>0</td>\n",
       "      <td>0</td>\n",
       "      <td>0</td>\n",
       "      <td>null</td>\n",
       "      <td>null</td>\n",
       "      <td>Never married</td>\n",
       "      <td>Asian or Pacific Islander</td>\n",
       "      <td>null</td>\n",
       "      <td>0</td>\n",
       "      <td>0</td>\n",
       "    </tr>\n",
       "    <tr>\n",
       "      <th>3</th>\n",
       "      <td>9</td>\n",
       "      <td>1</td>\n",
       "      <td>1</td>\n",
       "      <td>1</td>\n",
       "      <td>0</td>\n",
       "      <td>0</td>\n",
       "      <td>Native- Born in the United States</td>\n",
       "      <td>null</td>\n",
       "      <td>0</td>\n",
       "      <td>9.0</td>\n",
       "      <td>0</td>\n",
       "      <td>Children or Armed Forces</td>\n",
       "      <td>1</td>\n",
       "      <td>0</td>\n",
       "      <td>0</td>\n",
       "      <td>null</td>\n",
       "      <td>null</td>\n",
       "      <td>Never married</td>\n",
       "      <td>White</td>\n",
       "      <td>Both parents present</td>\n",
       "      <td>0</td>\n",
       "      <td>0</td>\n",
       "    </tr>\n",
       "    <tr>\n",
       "      <th>4</th>\n",
       "      <td>10</td>\n",
       "      <td>1</td>\n",
       "      <td>1</td>\n",
       "      <td>1</td>\n",
       "      <td>0</td>\n",
       "      <td>0</td>\n",
       "      <td>Native- Born in the United States</td>\n",
       "      <td>null</td>\n",
       "      <td>0</td>\n",
       "      <td>9.0</td>\n",
       "      <td>0</td>\n",
       "      <td>Children or Armed Forces</td>\n",
       "      <td>1</td>\n",
       "      <td>0</td>\n",
       "      <td>0</td>\n",
       "      <td>null</td>\n",
       "      <td>null</td>\n",
       "      <td>Never married</td>\n",
       "      <td>White</td>\n",
       "      <td>Both parents present</td>\n",
       "      <td>0</td>\n",
       "      <td>0</td>\n",
       "    </tr>\n",
       "  </tbody>\n",
       "</table>\n",
       "</div>"
      ],
      "text/plain": [
       "   age  born_usa_father  born_usa_mother  born_usa_self  capital_gains  capital_losses                         citizenship                 class_of_worker  divdends_from_stocks  education  family_members_under full_or_part_time_employment_stat  has_lived_in_this_house_1_year_ago  is_male  is_self_employed major_industry_code                major_occupation_code marital_status                       race total_person_earnings  wage_per_hour  weeks_worked\n",
       "0   73                1                1              1              0               0   Native- Born in the United States                            null                     0       11.0                     0                Not in labor force                                   0        0                 0                null                                 null        Widowed                      White                  null              0             0\n",
       "1   58                1                1              1              0               0   Native- Born in the United States  Self-employed-not incorporated                     0       15.0                     1          Children or Armed Forces                                   0        1                 0        Construction  Precision production craft & repair       Divorced                      White                  null              0            52\n",
       "2   18                0                0              0              0               0  Foreign born- Not a citizen of U S                            null                     0        NaN                     0                Not in labor force                                   0        0                 0                null                                 null  Never married  Asian or Pacific Islander                  null              0             0\n",
       "3    9                1                1              1              0               0   Native- Born in the United States                            null                     0        9.0                     0          Children or Armed Forces                                   1        0                 0                null                                 null  Never married                      White  Both parents present              0             0\n",
       "4   10                1                1              1              0               0   Native- Born in the United States                            null                     0        9.0                     0          Children or Armed Forces                                   1        0                 0                null                                 null  Never married                      White  Both parents present              0             0"
      ]
     },
     "execution_count": 37,
     "metadata": {},
     "output_type": "execute_result"
    }
   ],
   "source": [
    "data.head()"
   ]
  },
  {
   "cell_type": "code",
   "execution_count": 38,
   "metadata": {},
   "outputs": [],
   "source": [
    "# using pipeline\n",
    "from sklearn.compose import ColumnTransformer\n",
    "from sklearn.pipeline import Pipeline\n",
    "from sklearn.preprocessing import MinMaxScaler, OneHotEncoder  # minmaxscaler is for ratio_cols where the number could varies a lot\n",
    "\n",
    "numeric_cols = ratio_cols + bin_cols\n",
    "numeric_transformer = Pipeline(steps=[(\"scaler\", MinMaxScaler())])\n",
    "\n",
    "categorical_cols = remaining_nominal_cols\n",
    "categorical_transformer = Pipeline(steps=[(\"ohe\", OneHotEncoder(handle_unknown=\"ignore\"))])\n",
    "\n",
    "preprocessor = ColumnTransformer(transformers=[(\"num\", numeric_transformer, numeric_cols), (\"cat\", categorical_transformer, categorical_cols)])"
   ]
  },
  {
   "cell_type": "code",
   "execution_count": 39,
   "metadata": {},
   "outputs": [],
   "source": [
    "# transform the columns\n",
    "processed_data = preprocessor.fit_transform(data)"
   ]
  },
  {
   "cell_type": "code",
   "execution_count": 76,
   "metadata": {},
   "outputs": [
    {
     "name": "stderr",
     "output_type": "stream",
     "text": [
      "/home/han/anaconda3/lib/python3.7/site-packages/IPython/core/interactiveshell.py:3326: PerformanceWarning: \n",
      "your performance may suffer as PyTables will pickle object types that it cannot\n",
      "map directly to c-types [inferred_type->mixed,key->block0_values] [items->Int64Index([0], dtype='int64')]\n",
      "\n",
      "  exec(code_obj, self.user_global_ns, self.user_ns)\n"
     ]
    }
   ],
   "source": [
    "# saving data\n",
    "backup[\"processed_data\"] = pd.DataFrame(processed_data)"
   ]
  },
  {
   "cell_type": "code",
   "execution_count": 40,
   "metadata": {},
   "outputs": [
    {
     "data": {
      "text/plain": [
       "(199523, 91)"
      ]
     },
     "execution_count": 40,
     "metadata": {},
     "output_type": "execute_result"
    }
   ],
   "source": [
    "processed_data.get_shape()  # 91 columns now"
   ]
  },
  {
   "cell_type": "code",
   "execution_count": 41,
   "metadata": {},
   "outputs": [
    {
     "data": {
      "text/plain": [
       "(199523, 22)"
      ]
     },
     "execution_count": 41,
     "metadata": {},
     "output_type": "execute_result"
    }
   ],
   "source": [
    "data.shape  # original data had 22 columns"
   ]
  },
  {
   "cell_type": "markdown",
   "metadata": {
    "heading_collapsed": "true"
   },
   "source": [
    "## Simulation of Overfitting With Decision Tree"
   ]
  },
  {
   "cell_type": "code",
   "execution_count": 42,
   "metadata": {},
   "outputs": [
    {
     "data": {
      "image/png": "[encoded data removed]",
      "text/plain": [
       "<Figure size 432x288 with 1 Axes>"
      ]
     },
     "metadata": {
      "needs_background": "light"
     },
     "output_type": "display_data"
    }
   ],
   "source": [
    "# simulation\n",
    "from IPython import display\n",
    "import numpy as np\n",
    "from matplotlib import pylab as plt\n",
    " \n",
    "# Create a random dataset\n",
    "rng = np.random.RandomState(42) # fix the seed so the result are stable\n",
    "N_points = 400\n",
    "X = np.sort(5 * rng.rand(N_points, 1), axis=0)\n",
    "y = np.sin(X).ravel() + .4 * (0.5 - rng.rand(N_points))\n",
    "\n",
    "plt.plot(X, y, 'b.')\n",
    "plt.xlabel('Data')\n",
    "plt.xlabel('X')\n",
    "plt.ylabel('Y')\n",
    "plt.show()\n",
    "\n",
    "\n",
    "from ipywidgets import interactive, IntSlider\n",
    "from sklearn import tree\n",
    "\n",
    "def train_and_plot(max_depth):\n",
    "    est = tree.DecisionTreeRegressor(max_depth=max_depth)\n",
    "    est.fit(X, y)\n",
    "\n",
    "    plt.plot(X, y, 'b.', label='data')\n",
    "    line = plt.plot(X, est.predict(X), 'r-', label='model')\n",
    "    plt.setp(line, linewidth=3.)\n",
    "    plt.xlabel('X')\n",
    "    plt.ylabel('Y')\n",
    "    plt.legend(loc='upper right');\n",
    "    plt.show()\n",
    "    \n",
    "max_depth_slider=IntSlider(min=1,max=8,step=1,value=2)\n",
    "interactive(train_and_plot, max_depth=8)  # max_depth = 2 -> underfitting; max_depth = 8 -> overfitting"
   ]
  },
  {
   "cell_type": "code",
   "execution_count": 43,
   "metadata": {},
   "outputs": [
    {
     "data": {
      "image/png": "[encoded data removed]",
      "text/plain": [
       "<Figure size 432x288 with 1 Axes>"
      ]
     },
     "metadata": {
      "needs_background": "light"
     },
     "output_type": "display_data"
    }
   ],
   "source": [
    "from sklearn import metrics\n",
    "\n",
    "max_depths = range(1, 10)\n",
    "in_sample_errors = []\n",
    "for max_depth in max_depths:\n",
    "    y_pred = tree.DecisionTreeRegressor(max_depth=max_depth).fit(X, y).predict(X)\n",
    "    in_sample_errors.append(metrics.mean_squared_error(y, y_pred))\n",
    "    \n",
    "plt.plot(max_depths, in_sample_errors, label='In-Sample Error')\n",
    "plt.xlabel('max_depth')\n",
    "plt.ylabel('MSE')\n",
    "plt.legend(loc='upper right');\n",
    "# MSE will always decrease with increased max_depth"
   ]
  },
  {
   "cell_type": "code",
   "execution_count": 44,
   "metadata": {},
   "outputs": [
    {
     "data": {
      "image/png": "[encoded data removed]",
      "text/plain": [
       "<Figure size 432x288 with 1 Axes>"
      ]
     },
     "metadata": {
      "needs_background": "light"
     },
     "output_type": "display_data"
    }
   ],
   "source": [
    "# out of sample training\n",
    "from sklearn import model_selection\n",
    "from sklearn import metrics\n",
    "\n",
    "X_train, X_test, y_train, y_test = model_selection.train_test_split(X, y, test_size=0.2, random_state=42)\n",
    "\n",
    "\n",
    "test_errors = []\n",
    "for max_depth in max_depths:\n",
    "    est = tree.DecisionTreeRegressor(max_depth=max_depth).fit(X_train, y_train)\n",
    "    y_pred = est.predict(X_test)\n",
    "    test_errors.append(metrics.mean_squared_error(y_test, y_pred))\n",
    "\n",
    "plt.plot(max_depths, in_sample_errors, label='In-Sample Error')\n",
    "plt.plot(max_depths, test_errors, label='Out-of-Sample Error')\n",
    "plt.xlabel('max_depth')\n",
    "plt.ylabel('MSE')\n",
    "plt.legend(loc='upper right');"
   ]
  },
  {
   "cell_type": "markdown",
   "metadata": {},
   "source": [
    "\n",
    "\n",
    "This is the picture we were looking for! The In-Sample Error (Training) is always decreasing but the out Out-of-Sample Error (Testing) initially decreases with model complexity (higher max_depth) but ultimately increases again. The Out-of-Sample Error (Testing) is the metric to look at when evaluating overfitting.\n",
    "\n",
    "It turns out that this is an illustration of a very general problem in machine-learning called Bias-Variance tradeoff (the concept is so general that it even has a Wikipedia article. A more rigorous account can be found here). The tradeoff tells us that we can decompose our Out-of-Sample Error into\n",
    "\n",
    "### Out-of-Sample Error=Bias+Variance.\n",
    "\n",
    "<ins>The Bias corresponds to how far off we expect the model to deviate from reality</ins> (i.e. the model's bias) because of parametric assumptions (e.g. we forced the model to be linear or to be a tree of maximum depth 2). It is given by the In-Sample Error of the above plot and always goes down with complexity. <ins>High Bias models correspond to underfitting.</ins>\n",
    "\n",
    "The Variance accounts for the fact that the model was only trained on a (noisy) subset of the data and that the idiosyncratic noise in the data is therefore likely to contribute some variance to the model. The more complex we allow the model to be, the more likely we are to overfit by picking up more of this noise. <ins>High variance models correspond to overfitting.</ins>\n",
    "\n",
    "We can also think of bias as unmodeled data and variance as modeled noise. As we increase the complexity of the model, we will necessarily model more of the data (reduce bias, reduce underfitting) but also start modeling noise (increase variance, increase overfitting). Here's a helpful diagram of the decomposition. Notice that at the optimal point, we have not yet learned on all our signal (still unmodeled data left) and we have picked up some noise and overfitting."
   ]
  },
  {
   "cell_type": "markdown",
   "metadata": {
    "heading_collapsed": "true"
   },
   "source": [
    "## Model Calibration And Evaluation"
   ]
  },
  {
   "cell_type": "markdown",
   "metadata": {
    "heading_collapsed": "true"
   },
   "source": [
    "### Random Forest Classifier"
   ]
  },
  {
   "cell_type": "markdown",
   "metadata": {
    "heading_collapsed": "true"
   },
   "source": [
    "#### Train and Fit Model"
   ]
  },
  {
   "cell_type": "code",
   "execution_count": 45,
   "metadata": {},
   "outputs": [],
   "source": [
    "# libraries\n",
    "from sklearn.model_selection import train_test_split, GridSearchCV\n",
    "from sklearn.ensemble import RandomForestClassifier\n",
    "from sklearn.metrics import confusion_matrix, accuracy_score, f1_score, precision_score, recall_score, classification_report"
   ]
  },
  {
   "cell_type": "code",
   "execution_count": 57,
   "metadata": {},
   "outputs": [
    {
     "name": "stdout",
     "output_type": "stream",
     "text": [
      "Mean accuracy of model: 0.951\n"
     ]
    }
   ],
   "source": [
    "# use random forest classifier\n",
    "clf = RandomForestClassifier(criterion=\"entropy\")\n",
    "\n",
    "# split the data\n",
    "X_train, X_test, y_train, y_test = train_test_split(processed_data, target, test_size=0.2)\n",
    "\n",
    "# train and evaluate classifier\n",
    "clf.fit(X_train, y_train)\n",
    "print(f\"Mean accuracy of model: {clf.score(X_test, y_test):.3f}\")  # score takes in a test data and true label for test data, and return the average accuracy"
   ]
  },
  {
   "cell_type": "code",
   "execution_count": 59,
   "metadata": {},
   "outputs": [
    {
     "name": "stdout",
     "output_type": "stream",
     "text": [
      "[[36886   540]\n",
      " [ 1423  1056]]\n",
      "              precision    recall  f1-score   support\n",
      "\n",
      "           0       0.96      0.99      0.97     37426\n",
      "           1       0.66      0.43      0.52      2479\n",
      "\n",
      "    accuracy                           0.95     39905\n",
      "   macro avg       0.81      0.71      0.75     39905\n",
      "weighted avg       0.94      0.95      0.95     39905\n",
      "\n"
     ]
    }
   ],
   "source": [
    "# print confusion matrix\n",
    "y_pred = clf.predict(X_test)\n",
    "print(confusion_matrix(y_test, y_pred))\n",
    "print(classification_report(y_test, y_pred)) "
   ]
  },
  {
   "cell_type": "markdown",
   "metadata": {},
   "source": [
    "While precision and recall for 0 (those earning < 50000k/ year) is pretty high, both the metrics are pretty low for 1 (those earning >50000k/ year), with precision=0.64 and recall=0.39. Precision indicates its ability to correctly identify true positives out of all the positive identifications, recall indicates the ability to find the actual positives. Both are not quite satifactory in this case. There is 1 to 16 ratio of imbalanced dataset here. Alternative metrics could be used."
   ]
  },
  {
   "cell_type": "markdown",
   "metadata": {
    "heading_collapsed": "true"
   },
   "source": [
    "#### Using ROC/ AUC for Random Forest Classifier"
   ]
  },
  {
   "cell_type": "markdown",
   "metadata": {},
   "source": [
    "<ins>Not to be used for doc</ins>\n",
    "\n",
    "ROC is an acronym that means Receiver Operating Characteristic and summarizes a field of study for analyzing binary classifiers based on their ability to discriminate classes. A ROC curve is a diagnostic plot for summarizing the behavior of a model by calculating the false positive rate and true positive rate for a set of predictions by the model under different thresholds.\n",
    "\n",
    "Each threshold is a point on the plot and the points are connected to form a curve. A classifier that has no skill (e.g. predicts the majority class under all thresholds) will be represented by a diagonal line from the bottom left to the top right. Any points below this line have worse than no skill. A perfect model will be a point in the top right of the plot. \n",
    "\n",
    "The ROC Curve is a helpful diagnostic for one model. <ins>The area under the ROC curve can be calculated and provides a single score to summarize the plot that can be used to compare models. A no skill classifier will have a score of 0.5, whereas a perfect classifier will have a score of 1.0.</ins>"
   ]
  },
  {
   "cell_type": "code",
   "execution_count": 61,
   "metadata": {},
   "outputs": [
    {
     "name": "stderr",
     "output_type": "stream",
     "text": [
      "/home/han/anaconda3/lib/python3.7/site-packages/sklearn/dummy.py:132: FutureWarning: The default value of strategy will change from stratified to prior in 0.24.\n",
      "  \"stratified to prior in 0.24.\", FutureWarning)\n"
     ]
    },
    {
     "data": {
      "text/plain": [
       "Text(0.5, 1.0, 'ROC-AUC For Random Forest Classifier')"
      ]
     },
     "execution_count": 61,
     "metadata": {},
     "output_type": "execute_result"
    },
    {
     "data": {
      "image/png": "[encoded data removed]",
      "text/plain": [
       "<Figure size 720x360 with 1 Axes>"
      ]
     },
     "metadata": {
      "needs_background": "light"
     },
     "output_type": "display_data"
    }
   ],
   "source": [
    "# roc/auc\n",
    "from sklearn.metrics import auc, roc_curve, roc_auc_score\n",
    "\n",
    "# using dummy\n",
    "from sklearn.dummy import DummyClassifier\n",
    "dummy = DummyClassifier()\n",
    "dummy.fit(X_train, y_train)\n",
    "yhat = dummy.predict_proba(X_test)[:,1]\n",
    "dummy_roc_auc = roc_auc_score(y_test, yhat)  # it is 0.5 as should be\n",
    "fpr_dummy, tpr_dummy, dummy_threshold = roc_curve(y_test, yhat)\n",
    "\n",
    "# using data\n",
    "fpr, tpr, threshold = roc_curve(y_test, y_pred)\n",
    "roc_auc = auc(fpr, tpr)  # gives the same results as roc_auc_score(y_test, y_pred)\n",
    "plt.figure(figsize=(10,5))\n",
    "plt.plot(fpr,tpr,'b',label='AUC = %0.2f'% roc_auc)\n",
    "plt.plot(fpr_dummy, tpr_dummy, \"r--\", label='Dummy AUC = %0.2f'% dummy_roc_auc)\n",
    "plt.legend(loc='lower right')\n",
    "# plt.plot([0,1],[0,1],'k--')  # basically connecting from 0,0 to 1,1\n",
    "plt.xlabel('False Positive Rate')\n",
    "plt.ylabel('True Positive Rate')\n",
    "plt.title(\"ROC-AUC For Random Forest Classifier\")"
   ]
  },
  {
   "cell_type": "markdown",
   "metadata": {
    "heading_collapsed": "true"
   },
   "source": [
    "#### Using Precision-Recall Curve"
   ]
  },
  {
   "cell_type": "markdown",
   "metadata": {},
   "source": [
    "For imbalanced classification with a severe skew and few examples of the minority class, the ROC AUC can be misleading. This is because a small number of correct or incorrect predictions can result in a large change in the ROC Curve or ROC AUC score. \n",
    "\n",
    "An alternative to the ROC Curve is the precision-recall curve that can be used in a similar way, although focuses on the performance of the classifier on the minority class. Again, different thresholds are used on a set of predictions by a model, and in this case, the precision and recall are calculated. The points form a curve and classifiers that perform better under a range of different thresholds will be ranked higher.\n",
    "\n",
    "<ins>A no-skill classifier will be a horizontal line on the plot with a precision that is proportional to the number of positive examples in the dataset. For a balanced dataset this will be 0.5. A perfect classifier is represented by a point in the top right.</ins>\n",
    "\n",
    "And like the ROC AUC, we can calculate the area under the curve as a score and use that score to compare classifiers. In this case, the focus on the minority class makes the Precision-Recall AUC more useful for imbalanced classification problems.\n",
    "\n",
    "A model with perfect skill is depicted as a point at a coordinate of (1,1). A skillful model is represented by a curve that bows towards a coordinate of (1,1). A no-skill classifier will be a horizontal line on the plot with a precision that is proportional to the number of positive examples in the dataset. For a balanced dataset this will be 0.5."
   ]
  },
  {
   "cell_type": "code",
   "execution_count": 62,
   "metadata": {},
   "outputs": [
    {
     "name": "stdout",
     "output_type": "stream",
     "text": [
      "Dummy auc is 0.09757654707756981.\n"
     ]
    },
    {
     "name": "stderr",
     "output_type": "stream",
     "text": [
      "/home/han/anaconda3/lib/python3.7/site-packages/sklearn/dummy.py:132: FutureWarning: The default value of strategy will change from stratified to prior in 0.24.\n",
      "  \"stratified to prior in 0.24.\", FutureWarning)\n"
     ]
    },
    {
     "data": {
      "text/plain": [
       "Text(0.5, 1.0, 'Precision-Recall For RandomForestClassifier')"
      ]
     },
     "execution_count": 62,
     "metadata": {},
     "output_type": "execute_result"
    },
    {
     "data": {
      "image/png": "[encoded data removed]",
      "text/plain": [
       "<Figure size 720x360 with 1 Axes>"
      ]
     },
     "metadata": {
      "needs_background": "light"
     },
     "output_type": "display_data"
    }
   ],
   "source": [
    "# using the precision-recall curve\n",
    "\n",
    "# using a dummy for no-skill\n",
    "from sklearn.dummy import DummyClassifier\n",
    "from sklearn.metrics import precision_recall_curve, precision_recall_fscore_support\n",
    "dummy = DummyClassifier()\n",
    "dummy.fit(X_train, y_train)\n",
    "yhat = dummy.predict_proba(X_test)[:,1]\n",
    "precision, recall, threshold = precision_recall_curve(y_test, yhat)\n",
    "pr_auc_dummy = auc(recall, precision)\n",
    "print(f\"Dummy auc is {pr_auc_dummy}.\")\n",
    "\n",
    "# for the actual data\n",
    "precision, recall, threshold = precision_recall_curve(y_test, y_pred)\n",
    "pr_auc = auc(recall, precision)\n",
    "\n",
    "# plot\n",
    "# calculate the dummy line as the proportion of the positive class\n",
    "dummy = len(y_test[y_test==1]) / len(y_test)\n",
    "plt.figure(figsize=(10,5))\n",
    "plt.plot(recall,precision,'b',label='AUC = %0.2f'% pr_auc)\n",
    "plt.plot([0,1],[dummy,dummy],'k--', label= \"Dummy = %0.2f\"% pr_auc_dummy)  \n",
    "plt.legend(loc='upper right')\n",
    "plt.xlabel('Recall')\n",
    "plt.ylabel('Precision')\n",
    "plt.title(\"Precision-Recall For RandomForestClassifier\")"
   ]
  },
  {
   "cell_type": "markdown",
   "metadata": {
    "heading_collapsed": "true"
   },
   "source": [
    "#### Use GridSearch"
   ]
  },
  {
   "cell_type": "code",
   "execution_count": 68,
   "metadata": {},
   "outputs": [
    {
     "data": {
      "text/plain": [
       "GridSearchCV(cv=5, error_score=nan,\n",
       "             estimator=RandomForestClassifier(bootstrap=True, ccp_alpha=0.0,\n",
       "                                              class_weight=None,\n",
       "                                              criterion='gini', max_depth=None,\n",
       "                                              max_features='auto',\n",
       "                                              max_leaf_nodes=None,\n",
       "                                              max_samples=None,\n",
       "                                              min_impurity_decrease=0.0,\n",
       "                                              min_impurity_split=None,\n",
       "                                              min_samples_leaf=1,\n",
       "                                              min_samples_split=2,\n",
       "                                              min_weight_fraction_leaf=0.0,\n",
       "                                              n_estimators=100, n_jobs=None,\n",
       "                                              oob_score=False, random_state=42,\n",
       "                                              verbose=0, warm_start=False),\n",
       "             iid='deprecated', n_jobs=None,\n",
       "             param_grid={'max_depth': [2, 4, 6, 8],\n",
       "                         'n_estimators': [200, 500, 700]},\n",
       "             pre_dispatch='2*n_jobs', refit=True, return_train_score=False,\n",
       "             scoring=None, verbose=0)"
      ]
     },
     "execution_count": 68,
     "metadata": {},
     "output_type": "execute_result"
    }
   ],
   "source": [
    "# use grid search  # takes a long time\n",
    "rfc=RandomForestClassifier(random_state=42)  # reinitialise a randomforestclassifier\n",
    "param_grid = { \n",
    "    'n_estimators': [200,500,700],\n",
    "    #'max_features': ['auto', 'sqrt', 'log2'],\n",
    "    'max_depth' : [2,4,6,8],\n",
    "    #'criterion' :['gini', 'entropy']\n",
    "}\n",
    "grid_search = GridSearchCV(rfc, param_grid=param_grid, cv=5)\n",
    "grid_search.fit(X_train, y_train)"
   ]
  },
  {
   "cell_type": "code",
   "execution_count": 72,
   "metadata": {},
   "outputs": [
    {
     "data": {
      "text/plain": [
       "{'max_depth': 8, 'n_estimators': 200}"
      ]
     },
     "execution_count": 72,
     "metadata": {},
     "output_type": "execute_result"
    }
   ],
   "source": [
    "grid_search.best_params_"
   ]
  },
  {
   "cell_type": "markdown",
   "metadata": {
    "heading_collapsed": "true"
   },
   "source": [
    "#### Use parameter from grid search"
   ]
  },
  {
   "cell_type": "code",
   "execution_count": 78,
   "metadata": {},
   "outputs": [
    {
     "name": "stdout",
     "output_type": "stream",
     "text": [
      "Mean accuracy of model: 0.946\n"
     ]
    }
   ],
   "source": [
    "rfc1 = RandomForestClassifier(random_state=42, max_depth=8, n_estimators=200)\n",
    "rfc1.fit(X_train, y_train)\n",
    "print(f\"Mean accuracy of model: {rfc1.score(X_test, y_test):.3f}\")"
   ]
  },
  {
   "cell_type": "code",
   "execution_count": 80,
   "metadata": {},
   "outputs": [
    {
     "name": "stdout",
     "output_type": "stream",
     "text": [
      "              precision    recall  f1-score   support\n",
      "\n",
      "           0       0.95      1.00      0.97     37426\n",
      "           1       0.90      0.14      0.24      2479\n",
      "\n",
      "    accuracy                           0.95     39905\n",
      "   macro avg       0.92      0.57      0.61     39905\n",
      "weighted avg       0.94      0.95      0.93     39905\n",
      "\n"
     ]
    }
   ],
   "source": [
    "# confusion matrix\n",
    "y_pred_rfc2 = rfc1.predict(X_test)\n",
    "print(classification_report(y_test, y_pred_rfc2))"
   ]
  },
  {
   "cell_type": "code",
   "execution_count": 82,
   "metadata": {},
   "outputs": [
    {
     "name": "stderr",
     "output_type": "stream",
     "text": [
      "/home/han/anaconda3/lib/python3.7/site-packages/sklearn/dummy.py:132: FutureWarning: The default value of strategy will change from stratified to prior in 0.24.\n",
      "  \"stratified to prior in 0.24.\", FutureWarning)\n"
     ]
    },
    {
     "data": {
      "text/plain": [
       "Text(0.5, 1.0, 'ROC-AUC For Random Forest Classifier Using Grid Search')"
      ]
     },
     "execution_count": 82,
     "metadata": {},
     "output_type": "execute_result"
    },
    {
     "data": {
      "image/png": "[encoded data removed]",
      "text/plain": [
       "<Figure size 720x360 with 1 Axes>"
      ]
     },
     "metadata": {
      "needs_background": "light"
     },
     "output_type": "display_data"
    }
   ],
   "source": [
    "# roc-auc\n",
    "from sklearn.metrics import auc, roc_curve, roc_auc_score\n",
    "\n",
    "# using dummy\n",
    "from sklearn.dummy import DummyClassifier\n",
    "dummy = DummyClassifier()\n",
    "dummy.fit(X_train, y_train)\n",
    "yhat = dummy.predict_proba(X_test)[:,1]\n",
    "dummy_roc_auc = roc_auc_score(y_test, yhat)  # it is 0.5 as should be\n",
    "fpr_dummy, tpr_dummy, dummy_threshold = roc_curve(y_test, yhat)\n",
    "\n",
    "# using data\n",
    "fpr_rfc2, tpr_rfc2, threshold = roc_curve(y_test, y_pred_rfc2)\n",
    "roc_auc_rfc2 = auc(fpr_rfc2, tpr_rfc2)  # gives the same results as roc_auc_score(y_test, y_pred)\n",
    "plt.figure(figsize=(10,5))\n",
    "plt.plot(fpr_rfc2,tpr_rfc2,'b',label='AUC GridSearch= %0.2f'% roc_auc_rfc2)\n",
    "plt.plot(fpr_dummy, tpr_dummy, \"r--\", label='Dummy AUC = %0.2f'% dummy_roc_auc)\n",
    "plt.legend(loc='lower right')\n",
    "# plt.plot([0,1],[0,1],'k--')  # basically connecting from 0,0 to 1,1\n",
    "plt.xlabel('False Positive Rate')\n",
    "plt.ylabel('True Positive Rate')\n",
    "plt.title(\"ROC-AUC For Random Forest Classifier Using Grid Search\")"
   ]
  },
  {
   "cell_type": "markdown",
   "metadata": {
    "heading_collapsed": "true"
   },
   "source": [
    "### Logistic Regression"
   ]
  },
  {
   "cell_type": "markdown",
   "metadata": {
    "heading_collapsed": "true"
   },
   "source": [
    "#### Train and Fit Model"
   ]
  },
  {
   "cell_type": "code",
   "execution_count": 63,
   "metadata": {},
   "outputs": [
    {
     "name": "stdout",
     "output_type": "stream",
     "text": [
      "Mean accuracy of model: 0.950\n"
     ]
    }
   ],
   "source": [
    "# library \n",
    "from sklearn.linear_model import LogisticRegression\n",
    "\n",
    "# train model\n",
    "lr = LogisticRegression(solver='lbfgs', max_iter=1000)\n",
    "lr.fit(X_train, y_train)\n",
    "\n",
    "# evaluate\n",
    "print(f\"Mean accuracy of model: {lr.score(X_test, y_test):.3f}\")"
   ]
  },
  {
   "cell_type": "code",
   "execution_count": 64,
   "metadata": {},
   "outputs": [
    {
     "name": "stdout",
     "output_type": "stream",
     "text": [
      "[[37123   303]\n",
      " [ 1710   769]]\n",
      "              precision    recall  f1-score   support\n",
      "\n",
      "           0       0.96      0.99      0.97     37426\n",
      "           1       0.72      0.31      0.43      2479\n",
      "\n",
      "    accuracy                           0.95     39905\n",
      "   macro avg       0.84      0.65      0.70     39905\n",
      "weighted avg       0.94      0.95      0.94     39905\n",
      "\n"
     ]
    }
   ],
   "source": [
    "# print confusion matrix\n",
    "y_pred_lr = lr.predict(X_test)\n",
    "print(confusion_matrix(y_test, y_pred_lr))\n",
    "print(classification_report(y_test, y_pred_lr)) "
   ]
  },
  {
   "cell_type": "markdown",
   "metadata": {
    "heading_collapsed": "true"
   },
   "source": [
    "#### Use ROC/AUC for LogisticRegression"
   ]
  },
  {
   "cell_type": "code",
   "execution_count": 65,
   "metadata": {},
   "outputs": [
    {
     "name": "stderr",
     "output_type": "stream",
     "text": [
      "/home/han/anaconda3/lib/python3.7/site-packages/sklearn/dummy.py:132: FutureWarning: The default value of strategy will change from stratified to prior in 0.24.\n",
      "  \"stratified to prior in 0.24.\", FutureWarning)\n"
     ]
    },
    {
     "data": {
      "text/plain": [
       "Text(0.5, 1.0, 'ROC-AUC For LogisticRegression')"
      ]
     },
     "execution_count": 65,
     "metadata": {},
     "output_type": "execute_result"
    },
    {
     "data": {
      "image/png": "[encoded data removed]",
      "text/plain": [
       "<Figure size 720x360 with 1 Axes>"
      ]
     },
     "metadata": {
      "needs_background": "light"
     },
     "output_type": "display_data"
    }
   ],
   "source": [
    "# roc/auc\n",
    "\n",
    "# using dummy\n",
    "dummy = DummyClassifier()\n",
    "dummy.fit(X_train, y_train)\n",
    "yhat = dummy.predict_proba(X_test)[:,1]\n",
    "dummy_roc_auc = roc_auc_score(y_test, yhat)  # 0.5\n",
    "fpr_dummy, tpr_dummy, dummy_threshold = roc_curve(y_test, yhat)\n",
    "\n",
    "# using data\n",
    "fpr_lr, tpr_lr, threshold = roc_curve(y_test, y_pred_lr)\n",
    "roc_auc = auc(fpr_lr, tpr_lr)  # gives the same results as roc_auc_score(y_test, y_pred)\n",
    "plt.figure(figsize=(10,5))\n",
    "plt.plot(fpr_lr,tpr_lr,'b',label='AUC = %0.2f'% roc_auc)\n",
    "plt.plot(fpr_dummy, tpr_dummy, \"r--\", label='Dummy AUC = %0.2f'% dummy_roc_auc)\n",
    "plt.legend(loc='lower right')\n",
    "# plt.plot([0,1],[0,1],'k--')  # basically connecting from 0,0 to 1,1\n",
    "plt.xlabel('False Positive Rate')\n",
    "plt.ylabel('True Positive Rate')\n",
    "plt.title(\"ROC-AUC For LogisticRegression\")"
   ]
  },
  {
   "cell_type": "markdown",
   "metadata": {
    "heading_collapsed": "true"
   },
   "source": [
    "#### Using Precision-recall for LogisticRegression"
   ]
  },
  {
   "cell_type": "code",
   "execution_count": 84,
   "metadata": {},
   "outputs": [
    {
     "name": "stdout",
     "output_type": "stream",
     "text": [
      "Dummy auc is 0.08647117756089069.\n"
     ]
    },
    {
     "name": "stderr",
     "output_type": "stream",
     "text": [
      "/home/han/anaconda3/lib/python3.7/site-packages/sklearn/dummy.py:132: FutureWarning: The default value of strategy will change from stratified to prior in 0.24.\n",
      "  \"stratified to prior in 0.24.\", FutureWarning)\n"
     ]
    },
    {
     "data": {
      "text/plain": [
       "Text(0.5, 1.0, 'Precision-Recall For LogisticRegression')"
      ]
     },
     "execution_count": 84,
     "metadata": {},
     "output_type": "execute_result"
    },
    {
     "data": {
      "image/png": "[encoded data removed]",
      "text/plain": [
       "<Figure size 720x360 with 1 Axes>"
      ]
     },
     "metadata": {
      "needs_background": "light"
     },
     "output_type": "display_data"
    }
   ],
   "source": [
    "# using the precision-recall curve\n",
    "\n",
    "# using a dummy for no-skill\n",
    "from sklearn.dummy import DummyClassifier\n",
    "from sklearn.metrics import precision_recall_curve, precision_recall_fscore_support\n",
    "dummy = DummyClassifier()\n",
    "dummy.fit(X_train, y_train)\n",
    "yhat = dummy.predict_proba(X_test)[:,1]\n",
    "precision, recall, threshold = precision_recall_curve(y_test, yhat)\n",
    "pr_auc_dummy = auc(recall, precision)\n",
    "print(f\"Dummy auc is {pr_auc_dummy}.\")\n",
    "\n",
    "# for the actual data\n",
    "precision_lr, recall_lr, threshold = precision_recall_curve(y_test, y_pred_lr)\n",
    "pr_auc_lr = auc(recall_lr, precision_lr)\n",
    "\n",
    "# plot\n",
    "# calculate the dummy line as the proportion of the positive class\n",
    "dummy = len(y_test[y_test==1]) / len(y_test)\n",
    "plt.figure(figsize=(10,5))\n",
    "plt.plot(recall_lr,precision_lr,'b',label='AUC LogReg= %0.2f'% pr_auc_lr)\n",
    "plt.plot([0,1],[dummy,dummy],'k--', label= \"Dummy = %0.2f\"% pr_auc_dummy)  \n",
    "plt.legend(loc='upper right')\n",
    "plt.xlabel('Recall')\n",
    "plt.ylabel('Precision')\n",
    "plt.title(\"Precision-Recall For LogisticRegression\")"
   ]
  },
  {
   "cell_type": "markdown",
   "metadata": {
    "heading_collapsed": "true"
   },
   "source": [
    "#### Use Grid Search for Logistic Regression"
   ]
  },
  {
   "cell_type": "markdown",
   "metadata": {},
   "source": [
    "So, in general, our model has better precision for the correct class but worse recall. Precision and recall is always at a tug-of-war. Precision relies on false positive while recall relies on false negatives. Changing the threshold to reduce false positives can often end up increasing false negatives. Hence, their relationship. Still, we'll focus on recall here in the grid search to improve the ability to detect actual positives."
   ]
  },
  {
   "cell_type": "code",
   "execution_count": 125,
   "metadata": {},
   "outputs": [
    {
     "data": {
      "text/plain": [
       "GridSearchCV(cv=None, error_score=nan,\n",
       "             estimator=LogisticRegression(C=1.0, class_weight=None, dual=False,\n",
       "                                          fit_intercept=True,\n",
       "                                          intercept_scaling=1, l1_ratio=None,\n",
       "                                          max_iter=100, multi_class='auto',\n",
       "                                          n_jobs=None, penalty='l2',\n",
       "                                          random_state=42, solver='liblinear',\n",
       "                                          tol=0.0001, verbose=0,\n",
       "                                          warm_start=False),\n",
       "             iid='deprecated', n_jobs=None,\n",
       "             param_grid={'C': [0.001, 0.009, 0.01, 0.09, 1, 5, 10, 25],\n",
       "                         'penalty': ['l1', 'l2']},\n",
       "             pre_dispatch='2*n_jobs', refit=True, return_train_score=False,\n",
       "             scoring='f1', verbose=0)"
      ]
     },
     "execution_count": 125,
     "metadata": {},
     "output_type": "execute_result"
    }
   ],
   "source": [
    "lr2 = LogisticRegression(random_state=42, solver=\"liblinear\")  # have to use liblinear as l1 is not supported by lbfgs\n",
    "grid_values = {'penalty': ['l1', 'l2'],'C':[0.001,.009,0.01,.09,1,5,10,25]}\n",
    "grid_lr = GridSearchCV(lr2, param_grid = grid_values,scoring = 'f1')\n",
    "grid_lr.fit(X_train, y_train)"
   ]
  },
  {
   "cell_type": "code",
   "execution_count": 126,
   "metadata": {},
   "outputs": [
    {
     "data": {
      "text/plain": [
       "{'C': 10, 'penalty': 'l1'}"
      ]
     },
     "execution_count": 126,
     "metadata": {},
     "output_type": "execute_result"
    }
   ],
   "source": [
    "grid_lr.best_params_"
   ]
  },
  {
   "cell_type": "code",
   "execution_count": 127,
   "metadata": {},
   "outputs": [
    {
     "name": "stdout",
     "output_type": "stream",
     "text": [
      "              precision    recall  f1-score   support\n",
      "\n",
      "           0       0.96      0.99      0.97     37426\n",
      "           1       0.72      0.32      0.44      2479\n",
      "\n",
      "    accuracy                           0.95     39905\n",
      "   macro avg       0.84      0.66      0.71     39905\n",
      "weighted avg       0.94      0.95      0.94     39905\n",
      "\n"
     ]
    }
   ],
   "source": [
    "y_pred_gridlr = grid_lr.predict(X_test)\n",
    "print(classification_report(y_test, y_pred_gridlr))"
   ]
  },
  {
   "cell_type": "code",
   "execution_count": 128,
   "metadata": {},
   "outputs": [
    {
     "name": "stderr",
     "output_type": "stream",
     "text": [
      "/home/han/anaconda3/lib/python3.7/site-packages/sklearn/dummy.py:132: FutureWarning: The default value of strategy will change from stratified to prior in 0.24.\n",
      "  \"stratified to prior in 0.24.\", FutureWarning)\n"
     ]
    },
    {
     "data": {
      "text/plain": [
       "Text(0.5, 1.0, 'ROC-AUC For LogisticRegression')"
      ]
     },
     "execution_count": 128,
     "metadata": {},
     "output_type": "execute_result"
    },
    {
     "data": {
      "image/png": "[encoded data removed]",
      "text/plain": [
       "<Figure size 720x360 with 1 Axes>"
      ]
     },
     "metadata": {
      "needs_background": "light"
     },
     "output_type": "display_data"
    }
   ],
   "source": [
    "# roc/auc\n",
    "\n",
    "# using dummy\n",
    "dummy = DummyClassifier()\n",
    "dummy.fit(X_train, y_train)\n",
    "yhat = dummy.predict_proba(X_test)[:,1]\n",
    "dummy_roc_auc = roc_auc_score(y_test, yhat)  # 0.5\n",
    "fpr_dummy, tpr_dummy, dummy_threshold = roc_curve(y_test, yhat)\n",
    "\n",
    "# using data\n",
    "fpr_lr2, tpr_lr2, threshold = roc_curve(y_test, y_pred_gridlr)\n",
    "roc_auc_lr2 = auc(fpr_lr2, tpr_lr2)  # gives the same results as roc_auc_score(y_test, y_pred)\n",
    "plt.figure(figsize=(10,5))\n",
    "plt.plot(fpr_lr2,tpr_lr2,'b',label='AUC GridSearch LogisticReg= %0.2f'% roc_auc_lr2)\n",
    "plt.plot(fpr_dummy, tpr_dummy, \"r--\", label='Dummy AUC = %0.2f'% dummy_roc_auc)\n",
    "plt.legend(loc='lower right')\n",
    "# plt.plot([0,1],[0,1],'k--')  # basically connecting from 0,0 to 1,1\n",
    "plt.xlabel('False Positive Rate')\n",
    "plt.ylabel('True Positive Rate')\n",
    "plt.title(\"ROC-AUC For LogisticRegression\")"
   ]
  },
  {
   "cell_type": "code",
   "execution_count": 129,
   "metadata": {},
   "outputs": [
    {
     "name": "stdout",
     "output_type": "stream",
     "text": [
      "Dummy auc is 0.08764753759765234.\n"
     ]
    },
    {
     "name": "stderr",
     "output_type": "stream",
     "text": [
      "/home/han/anaconda3/lib/python3.7/site-packages/sklearn/dummy.py:132: FutureWarning: The default value of strategy will change from stratified to prior in 0.24.\n",
      "  \"stratified to prior in 0.24.\", FutureWarning)\n"
     ]
    },
    {
     "data": {
      "text/plain": [
       "Text(0.5, 1.0, 'Precision-Recall For LogisticRegression')"
      ]
     },
     "execution_count": 129,
     "metadata": {},
     "output_type": "execute_result"
    },
    {
     "data": {
      "image/png": "[encoded data removed]",
      "text/plain": [
       "<Figure size 720x360 with 1 Axes>"
      ]
     },
     "metadata": {
      "needs_background": "light"
     },
     "output_type": "display_data"
    }
   ],
   "source": [
    "# using the precision-recall curve\n",
    "\n",
    "# using a dummy for no-skill\n",
    "from sklearn.dummy import DummyClassifier\n",
    "from sklearn.metrics import precision_recall_curve, precision_recall_fscore_support\n",
    "dummy = DummyClassifier()\n",
    "dummy.fit(X_train, y_train)\n",
    "yhat = dummy.predict_proba(X_test)[:,1]\n",
    "precision, recall, threshold = precision_recall_curve(y_test, yhat)\n",
    "pr_auc_dummy = auc(recall, precision)\n",
    "print(f\"Dummy auc is {pr_auc_dummy}.\")\n",
    "\n",
    "# for the actual data\n",
    "precision_lr, recall_lr, threshold = precision_recall_curve(y_test, y_pred_gridlr)\n",
    "pr_auc_lr = auc(recall_lr, precision_lr)\n",
    "\n",
    "# plot\n",
    "# calculate the dummy line as the proportion of the positive class\n",
    "dummy = len(y_test[y_test==1]) / len(y_test)\n",
    "plt.figure(figsize=(10,5))\n",
    "plt.plot(recall_lr,precision_lr,'b',label='AUC LogReg= %0.2f'% pr_auc_lr)\n",
    "plt.plot([0,1],[dummy,dummy],'k--', label= \"Dummy = %0.2f\"% pr_auc_dummy)  \n",
    "plt.legend(loc='upper right')\n",
    "plt.xlabel('Recall')\n",
    "plt.ylabel('Precision')\n",
    "plt.title(\"Precision-Recall For LogisticRegression\")"
   ]
  },
  {
   "cell_type": "markdown",
   "metadata": {
    "heading_collapsed": "true"
   },
   "source": [
    "### Feature selection using RandomForestClassifier"
   ]
  },
  {
   "cell_type": "markdown",
   "metadata": {
    "heading_collapsed": "true"
   },
   "source": [
    "#### Feature selection"
   ]
  },
  {
   "cell_type": "code",
   "execution_count": 153,
   "metadata": {
    "collapsed": true,
    "jupyter": {
     "outputs_hidden": true
    }
   },
   "outputs": [
    {
     "data": {
      "text/html": [
       "<div>\n",
       "<style scoped>\n",
       "    .dataframe tbody tr th:only-of-type {\n",
       "        vertical-align: middle;\n",
       "    }\n",
       "\n",
       "    .dataframe tbody tr th {\n",
       "        vertical-align: top;\n",
       "    }\n",
       "\n",
       "    .dataframe thead th {\n",
       "        text-align: right;\n",
       "    }\n",
       "</style>\n",
       "<table border=\"1\" class=\"dataframe\">\n",
       "  <thead>\n",
       "    <tr style=\"text-align: right;\">\n",
       "      <th></th>\n",
       "      <th>0</th>\n",
       "      <th>1</th>\n",
       "      <th>2</th>\n",
       "      <th>3</th>\n",
       "      <th>4</th>\n",
       "      <th>5</th>\n",
       "      <th>6</th>\n",
       "      <th>7</th>\n",
       "      <th>8</th>\n",
       "      <th>9</th>\n",
       "      <th>10</th>\n",
       "      <th>11</th>\n",
       "      <th>12</th>\n",
       "      <th>13</th>\n",
       "      <th>14</th>\n",
       "      <th>15</th>\n",
       "      <th>16</th>\n",
       "      <th>17</th>\n",
       "      <th>18</th>\n",
       "      <th>19</th>\n",
       "      <th>20</th>\n",
       "      <th>21</th>\n",
       "      <th>22</th>\n",
       "      <th>23</th>\n",
       "      <th>24</th>\n",
       "      <th>25</th>\n",
       "      <th>26</th>\n",
       "      <th>27</th>\n",
       "      <th>28</th>\n",
       "      <th>29</th>\n",
       "      <th>30</th>\n",
       "      <th>31</th>\n",
       "      <th>32</th>\n",
       "      <th>33</th>\n",
       "      <th>34</th>\n",
       "      <th>35</th>\n",
       "      <th>36</th>\n",
       "      <th>37</th>\n",
       "      <th>38</th>\n",
       "      <th>39</th>\n",
       "      <th>40</th>\n",
       "      <th>41</th>\n",
       "      <th>42</th>\n",
       "      <th>43</th>\n",
       "      <th>44</th>\n",
       "      <th>45</th>\n",
       "      <th>46</th>\n",
       "      <th>47</th>\n",
       "      <th>48</th>\n",
       "      <th>49</th>\n",
       "      <th>50</th>\n",
       "      <th>51</th>\n",
       "      <th>52</th>\n",
       "      <th>53</th>\n",
       "      <th>54</th>\n",
       "      <th>55</th>\n",
       "      <th>56</th>\n",
       "      <th>57</th>\n",
       "      <th>58</th>\n",
       "      <th>59</th>\n",
       "      <th>60</th>\n",
       "      <th>61</th>\n",
       "      <th>62</th>\n",
       "      <th>63</th>\n",
       "      <th>64</th>\n",
       "      <th>65</th>\n",
       "      <th>66</th>\n",
       "      <th>67</th>\n",
       "      <th>68</th>\n",
       "      <th>69</th>\n",
       "      <th>70</th>\n",
       "      <th>71</th>\n",
       "      <th>72</th>\n",
       "      <th>73</th>\n",
       "      <th>74</th>\n",
       "      <th>75</th>\n",
       "      <th>76</th>\n",
       "      <th>77</th>\n",
       "      <th>78</th>\n",
       "      <th>79</th>\n",
       "      <th>80</th>\n",
       "      <th>81</th>\n",
       "      <th>82</th>\n",
       "      <th>83</th>\n",
       "      <th>84</th>\n",
       "      <th>85</th>\n",
       "      <th>86</th>\n",
       "      <th>87</th>\n",
       "      <th>88</th>\n",
       "      <th>89</th>\n",
       "      <th>90</th>\n",
       "    </tr>\n",
       "  </thead>\n",
       "  <tbody>\n",
       "    <tr>\n",
       "      <th>0</th>\n",
       "      <td>0.811111</td>\n",
       "      <td>0.0</td>\n",
       "      <td>0.000000</td>\n",
       "      <td>0.00000</td>\n",
       "      <td>0.000000</td>\n",
       "      <td>0.0</td>\n",
       "      <td>0.0</td>\n",
       "      <td>0.0</td>\n",
       "      <td>0.0</td>\n",
       "      <td>1.0</td>\n",
       "      <td>1.0</td>\n",
       "      <td>1.0</td>\n",
       "      <td>0.0</td>\n",
       "      <td>0.0</td>\n",
       "      <td>0.0</td>\n",
       "      <td>1.0</td>\n",
       "      <td>0.0</td>\n",
       "      <td>0.0</td>\n",
       "      <td>0.0</td>\n",
       "      <td>0.0</td>\n",
       "      <td>0.0</td>\n",
       "      <td>0.0</td>\n",
       "      <td>0.0</td>\n",
       "      <td>0.0</td>\n",
       "      <td>0.0</td>\n",
       "      <td>1.0</td>\n",
       "      <td>0.0</td>\n",
       "      <td>0.0</td>\n",
       "      <td>0.0</td>\n",
       "      <td>0.0</td>\n",
       "      <td>0.0</td>\n",
       "      <td>0.0</td>\n",
       "      <td>0.0</td>\n",
       "      <td>0.0</td>\n",
       "      <td>0.0</td>\n",
       "      <td>0.0</td>\n",
       "      <td>0.0</td>\n",
       "      <td>0.0</td>\n",
       "      <td>0.0</td>\n",
       "      <td>0.0</td>\n",
       "      <td>0.0</td>\n",
       "      <td>0.0</td>\n",
       "      <td>0.0</td>\n",
       "      <td>0.0</td>\n",
       "      <td>0.0</td>\n",
       "      <td>0.0</td>\n",
       "      <td>0.0</td>\n",
       "      <td>0.0</td>\n",
       "      <td>0.0</td>\n",
       "      <td>1.0</td>\n",
       "      <td>0.0</td>\n",
       "      <td>0.0</td>\n",
       "      <td>0.0</td>\n",
       "      <td>0.0</td>\n",
       "      <td>0.0</td>\n",
       "      <td>0.0</td>\n",
       "      <td>0.0</td>\n",
       "      <td>0.0</td>\n",
       "      <td>0.0</td>\n",
       "      <td>0.0</td>\n",
       "      <td>0.0</td>\n",
       "      <td>0.0</td>\n",
       "      <td>0.0</td>\n",
       "      <td>0.0</td>\n",
       "      <td>1.0</td>\n",
       "      <td>0.0</td>\n",
       "      <td>0.0</td>\n",
       "      <td>0.0</td>\n",
       "      <td>0.0</td>\n",
       "      <td>1.0</td>\n",
       "      <td>0.0</td>\n",
       "      <td>0.0</td>\n",
       "      <td>0.0</td>\n",
       "      <td>0.0</td>\n",
       "      <td>0.0</td>\n",
       "      <td>0.0</td>\n",
       "      <td>0.0</td>\n",
       "      <td>0.0</td>\n",
       "      <td>1.0</td>\n",
       "      <td>0.0</td>\n",
       "      <td>0.0</td>\n",
       "      <td>0.0</td>\n",
       "      <td>0.0</td>\n",
       "      <td>0.0</td>\n",
       "      <td>0.0</td>\n",
       "      <td>1.0</td>\n",
       "      <td>0.0</td>\n",
       "      <td>0.0</td>\n",
       "      <td>0.0</td>\n",
       "      <td>0.0</td>\n",
       "      <td>1.0</td>\n",
       "    </tr>\n",
       "    <tr>\n",
       "      <th>1</th>\n",
       "      <td>0.644444</td>\n",
       "      <td>0.0</td>\n",
       "      <td>0.000000</td>\n",
       "      <td>0.00000</td>\n",
       "      <td>0.166667</td>\n",
       "      <td>0.0</td>\n",
       "      <td>1.0</td>\n",
       "      <td>1.0</td>\n",
       "      <td>0.0</td>\n",
       "      <td>1.0</td>\n",
       "      <td>1.0</td>\n",
       "      <td>1.0</td>\n",
       "      <td>0.0</td>\n",
       "      <td>1.0</td>\n",
       "      <td>0.0</td>\n",
       "      <td>0.0</td>\n",
       "      <td>0.0</td>\n",
       "      <td>0.0</td>\n",
       "      <td>0.0</td>\n",
       "      <td>0.0</td>\n",
       "      <td>0.0</td>\n",
       "      <td>0.0</td>\n",
       "      <td>0.0</td>\n",
       "      <td>0.0</td>\n",
       "      <td>0.0</td>\n",
       "      <td>1.0</td>\n",
       "      <td>0.0</td>\n",
       "      <td>0.0</td>\n",
       "      <td>0.0</td>\n",
       "      <td>0.0</td>\n",
       "      <td>1.0</td>\n",
       "      <td>0.0</td>\n",
       "      <td>0.0</td>\n",
       "      <td>0.0</td>\n",
       "      <td>0.0</td>\n",
       "      <td>0.0</td>\n",
       "      <td>0.0</td>\n",
       "      <td>0.0</td>\n",
       "      <td>0.0</td>\n",
       "      <td>0.0</td>\n",
       "      <td>0.0</td>\n",
       "      <td>0.0</td>\n",
       "      <td>0.0</td>\n",
       "      <td>0.0</td>\n",
       "      <td>0.0</td>\n",
       "      <td>0.0</td>\n",
       "      <td>0.0</td>\n",
       "      <td>0.0</td>\n",
       "      <td>0.0</td>\n",
       "      <td>0.0</td>\n",
       "      <td>0.0</td>\n",
       "      <td>0.0</td>\n",
       "      <td>0.0</td>\n",
       "      <td>0.0</td>\n",
       "      <td>0.0</td>\n",
       "      <td>0.0</td>\n",
       "      <td>0.0</td>\n",
       "      <td>1.0</td>\n",
       "      <td>0.0</td>\n",
       "      <td>0.0</td>\n",
       "      <td>0.0</td>\n",
       "      <td>0.0</td>\n",
       "      <td>0.0</td>\n",
       "      <td>0.0</td>\n",
       "      <td>0.0</td>\n",
       "      <td>0.0</td>\n",
       "      <td>0.0</td>\n",
       "      <td>0.0</td>\n",
       "      <td>0.0</td>\n",
       "      <td>1.0</td>\n",
       "      <td>0.0</td>\n",
       "      <td>0.0</td>\n",
       "      <td>0.0</td>\n",
       "      <td>0.0</td>\n",
       "      <td>0.0</td>\n",
       "      <td>1.0</td>\n",
       "      <td>0.0</td>\n",
       "      <td>0.0</td>\n",
       "      <td>0.0</td>\n",
       "      <td>1.0</td>\n",
       "      <td>0.0</td>\n",
       "      <td>0.0</td>\n",
       "      <td>0.0</td>\n",
       "      <td>0.0</td>\n",
       "      <td>0.0</td>\n",
       "      <td>0.0</td>\n",
       "      <td>0.0</td>\n",
       "      <td>0.0</td>\n",
       "      <td>0.0</td>\n",
       "      <td>0.0</td>\n",
       "      <td>1.0</td>\n",
       "    </tr>\n",
       "    <tr>\n",
       "      <th>2</th>\n",
       "      <td>0.200000</td>\n",
       "      <td>0.0</td>\n",
       "      <td>0.000000</td>\n",
       "      <td>0.00000</td>\n",
       "      <td>0.000000</td>\n",
       "      <td>0.0</td>\n",
       "      <td>0.0</td>\n",
       "      <td>0.0</td>\n",
       "      <td>0.0</td>\n",
       "      <td>0.0</td>\n",
       "      <td>0.0</td>\n",
       "      <td>0.0</td>\n",
       "      <td>0.0</td>\n",
       "      <td>0.0</td>\n",
       "      <td>0.0</td>\n",
       "      <td>1.0</td>\n",
       "      <td>0.0</td>\n",
       "      <td>0.0</td>\n",
       "      <td>0.0</td>\n",
       "      <td>0.0</td>\n",
       "      <td>0.0</td>\n",
       "      <td>0.0</td>\n",
       "      <td>1.0</td>\n",
       "      <td>0.0</td>\n",
       "      <td>0.0</td>\n",
       "      <td>0.0</td>\n",
       "      <td>0.0</td>\n",
       "      <td>0.0</td>\n",
       "      <td>0.0</td>\n",
       "      <td>0.0</td>\n",
       "      <td>0.0</td>\n",
       "      <td>0.0</td>\n",
       "      <td>0.0</td>\n",
       "      <td>0.0</td>\n",
       "      <td>0.0</td>\n",
       "      <td>0.0</td>\n",
       "      <td>0.0</td>\n",
       "      <td>0.0</td>\n",
       "      <td>0.0</td>\n",
       "      <td>0.0</td>\n",
       "      <td>0.0</td>\n",
       "      <td>0.0</td>\n",
       "      <td>0.0</td>\n",
       "      <td>0.0</td>\n",
       "      <td>0.0</td>\n",
       "      <td>0.0</td>\n",
       "      <td>0.0</td>\n",
       "      <td>0.0</td>\n",
       "      <td>0.0</td>\n",
       "      <td>1.0</td>\n",
       "      <td>0.0</td>\n",
       "      <td>0.0</td>\n",
       "      <td>0.0</td>\n",
       "      <td>0.0</td>\n",
       "      <td>0.0</td>\n",
       "      <td>0.0</td>\n",
       "      <td>0.0</td>\n",
       "      <td>0.0</td>\n",
       "      <td>0.0</td>\n",
       "      <td>0.0</td>\n",
       "      <td>0.0</td>\n",
       "      <td>0.0</td>\n",
       "      <td>0.0</td>\n",
       "      <td>0.0</td>\n",
       "      <td>1.0</td>\n",
       "      <td>1.0</td>\n",
       "      <td>0.0</td>\n",
       "      <td>0.0</td>\n",
       "      <td>0.0</td>\n",
       "      <td>0.0</td>\n",
       "      <td>0.0</td>\n",
       "      <td>0.0</td>\n",
       "      <td>0.0</td>\n",
       "      <td>0.0</td>\n",
       "      <td>0.0</td>\n",
       "      <td>0.0</td>\n",
       "      <td>0.0</td>\n",
       "      <td>0.0</td>\n",
       "      <td>1.0</td>\n",
       "      <td>0.0</td>\n",
       "      <td>0.0</td>\n",
       "      <td>0.0</td>\n",
       "      <td>0.0</td>\n",
       "      <td>1.0</td>\n",
       "      <td>0.0</td>\n",
       "      <td>0.0</td>\n",
       "      <td>0.0</td>\n",
       "      <td>0.0</td>\n",
       "      <td>0.0</td>\n",
       "      <td>0.0</td>\n",
       "      <td>1.0</td>\n",
       "    </tr>\n",
       "    <tr>\n",
       "      <th>3</th>\n",
       "      <td>0.100000</td>\n",
       "      <td>0.0</td>\n",
       "      <td>0.000000</td>\n",
       "      <td>0.00000</td>\n",
       "      <td>0.000000</td>\n",
       "      <td>0.0</td>\n",
       "      <td>0.0</td>\n",
       "      <td>0.0</td>\n",
       "      <td>1.0</td>\n",
       "      <td>1.0</td>\n",
       "      <td>1.0</td>\n",
       "      <td>1.0</td>\n",
       "      <td>0.0</td>\n",
       "      <td>1.0</td>\n",
       "      <td>0.0</td>\n",
       "      <td>0.0</td>\n",
       "      <td>0.0</td>\n",
       "      <td>0.0</td>\n",
       "      <td>0.0</td>\n",
       "      <td>0.0</td>\n",
       "      <td>0.0</td>\n",
       "      <td>0.0</td>\n",
       "      <td>0.0</td>\n",
       "      <td>0.0</td>\n",
       "      <td>0.0</td>\n",
       "      <td>1.0</td>\n",
       "      <td>0.0</td>\n",
       "      <td>0.0</td>\n",
       "      <td>0.0</td>\n",
       "      <td>0.0</td>\n",
       "      <td>0.0</td>\n",
       "      <td>0.0</td>\n",
       "      <td>0.0</td>\n",
       "      <td>0.0</td>\n",
       "      <td>0.0</td>\n",
       "      <td>0.0</td>\n",
       "      <td>0.0</td>\n",
       "      <td>0.0</td>\n",
       "      <td>0.0</td>\n",
       "      <td>0.0</td>\n",
       "      <td>0.0</td>\n",
       "      <td>0.0</td>\n",
       "      <td>0.0</td>\n",
       "      <td>0.0</td>\n",
       "      <td>0.0</td>\n",
       "      <td>0.0</td>\n",
       "      <td>0.0</td>\n",
       "      <td>0.0</td>\n",
       "      <td>0.0</td>\n",
       "      <td>1.0</td>\n",
       "      <td>0.0</td>\n",
       "      <td>0.0</td>\n",
       "      <td>0.0</td>\n",
       "      <td>0.0</td>\n",
       "      <td>0.0</td>\n",
       "      <td>0.0</td>\n",
       "      <td>0.0</td>\n",
       "      <td>0.0</td>\n",
       "      <td>0.0</td>\n",
       "      <td>0.0</td>\n",
       "      <td>0.0</td>\n",
       "      <td>0.0</td>\n",
       "      <td>0.0</td>\n",
       "      <td>0.0</td>\n",
       "      <td>1.0</td>\n",
       "      <td>0.0</td>\n",
       "      <td>0.0</td>\n",
       "      <td>0.0</td>\n",
       "      <td>0.0</td>\n",
       "      <td>1.0</td>\n",
       "      <td>0.0</td>\n",
       "      <td>0.0</td>\n",
       "      <td>0.0</td>\n",
       "      <td>0.0</td>\n",
       "      <td>0.0</td>\n",
       "      <td>0.0</td>\n",
       "      <td>0.0</td>\n",
       "      <td>0.0</td>\n",
       "      <td>1.0</td>\n",
       "      <td>0.0</td>\n",
       "      <td>0.0</td>\n",
       "      <td>0.0</td>\n",
       "      <td>0.0</td>\n",
       "      <td>1.0</td>\n",
       "      <td>0.0</td>\n",
       "      <td>0.0</td>\n",
       "      <td>1.0</td>\n",
       "      <td>0.0</td>\n",
       "      <td>0.0</td>\n",
       "      <td>0.0</td>\n",
       "      <td>0.0</td>\n",
       "    </tr>\n",
       "    <tr>\n",
       "      <th>4</th>\n",
       "      <td>0.111111</td>\n",
       "      <td>0.0</td>\n",
       "      <td>0.000000</td>\n",
       "      <td>0.00000</td>\n",
       "      <td>0.000000</td>\n",
       "      <td>0.0</td>\n",
       "      <td>0.0</td>\n",
       "      <td>0.0</td>\n",
       "      <td>1.0</td>\n",
       "      <td>1.0</td>\n",
       "      <td>1.0</td>\n",
       "      <td>1.0</td>\n",
       "      <td>0.0</td>\n",
       "      <td>1.0</td>\n",
       "      <td>0.0</td>\n",
       "      <td>0.0</td>\n",
       "      <td>0.0</td>\n",
       "      <td>0.0</td>\n",
       "      <td>0.0</td>\n",
       "      <td>0.0</td>\n",
       "      <td>0.0</td>\n",
       "      <td>0.0</td>\n",
       "      <td>0.0</td>\n",
       "      <td>0.0</td>\n",
       "      <td>0.0</td>\n",
       "      <td>1.0</td>\n",
       "      <td>0.0</td>\n",
       "      <td>0.0</td>\n",
       "      <td>0.0</td>\n",
       "      <td>0.0</td>\n",
       "      <td>0.0</td>\n",
       "      <td>0.0</td>\n",
       "      <td>0.0</td>\n",
       "      <td>0.0</td>\n",
       "      <td>0.0</td>\n",
       "      <td>0.0</td>\n",
       "      <td>0.0</td>\n",
       "      <td>0.0</td>\n",
       "      <td>0.0</td>\n",
       "      <td>0.0</td>\n",
       "      <td>0.0</td>\n",
       "      <td>0.0</td>\n",
       "      <td>0.0</td>\n",
       "      <td>0.0</td>\n",
       "      <td>0.0</td>\n",
       "      <td>0.0</td>\n",
       "      <td>0.0</td>\n",
       "      <td>0.0</td>\n",
       "      <td>0.0</td>\n",
       "      <td>1.0</td>\n",
       "      <td>0.0</td>\n",
       "      <td>0.0</td>\n",
       "      <td>0.0</td>\n",
       "      <td>0.0</td>\n",
       "      <td>0.0</td>\n",
       "      <td>0.0</td>\n",
       "      <td>0.0</td>\n",
       "      <td>0.0</td>\n",
       "      <td>0.0</td>\n",
       "      <td>0.0</td>\n",
       "      <td>0.0</td>\n",
       "      <td>0.0</td>\n",
       "      <td>0.0</td>\n",
       "      <td>0.0</td>\n",
       "      <td>1.0</td>\n",
       "      <td>0.0</td>\n",
       "      <td>0.0</td>\n",
       "      <td>0.0</td>\n",
       "      <td>0.0</td>\n",
       "      <td>1.0</td>\n",
       "      <td>0.0</td>\n",
       "      <td>0.0</td>\n",
       "      <td>0.0</td>\n",
       "      <td>0.0</td>\n",
       "      <td>0.0</td>\n",
       "      <td>0.0</td>\n",
       "      <td>0.0</td>\n",
       "      <td>0.0</td>\n",
       "      <td>1.0</td>\n",
       "      <td>0.0</td>\n",
       "      <td>0.0</td>\n",
       "      <td>0.0</td>\n",
       "      <td>0.0</td>\n",
       "      <td>1.0</td>\n",
       "      <td>0.0</td>\n",
       "      <td>0.0</td>\n",
       "      <td>1.0</td>\n",
       "      <td>0.0</td>\n",
       "      <td>0.0</td>\n",
       "      <td>0.0</td>\n",
       "      <td>0.0</td>\n",
       "    </tr>\n",
       "    <tr>\n",
       "      <th>...</th>\n",
       "      <td>...</td>\n",
       "      <td>...</td>\n",
       "      <td>...</td>\n",
       "      <td>...</td>\n",
       "      <td>...</td>\n",
       "      <td>...</td>\n",
       "      <td>...</td>\n",
       "      <td>...</td>\n",
       "      <td>...</td>\n",
       "      <td>...</td>\n",
       "      <td>...</td>\n",
       "      <td>...</td>\n",
       "      <td>...</td>\n",
       "      <td>...</td>\n",
       "      <td>...</td>\n",
       "      <td>...</td>\n",
       "      <td>...</td>\n",
       "      <td>...</td>\n",
       "      <td>...</td>\n",
       "      <td>...</td>\n",
       "      <td>...</td>\n",
       "      <td>...</td>\n",
       "      <td>...</td>\n",
       "      <td>...</td>\n",
       "      <td>...</td>\n",
       "      <td>...</td>\n",
       "      <td>...</td>\n",
       "      <td>...</td>\n",
       "      <td>...</td>\n",
       "      <td>...</td>\n",
       "      <td>...</td>\n",
       "      <td>...</td>\n",
       "      <td>...</td>\n",
       "      <td>...</td>\n",
       "      <td>...</td>\n",
       "      <td>...</td>\n",
       "      <td>...</td>\n",
       "      <td>...</td>\n",
       "      <td>...</td>\n",
       "      <td>...</td>\n",
       "      <td>...</td>\n",
       "      <td>...</td>\n",
       "      <td>...</td>\n",
       "      <td>...</td>\n",
       "      <td>...</td>\n",
       "      <td>...</td>\n",
       "      <td>...</td>\n",
       "      <td>...</td>\n",
       "      <td>...</td>\n",
       "      <td>...</td>\n",
       "      <td>...</td>\n",
       "      <td>...</td>\n",
       "      <td>...</td>\n",
       "      <td>...</td>\n",
       "      <td>...</td>\n",
       "      <td>...</td>\n",
       "      <td>...</td>\n",
       "      <td>...</td>\n",
       "      <td>...</td>\n",
       "      <td>...</td>\n",
       "      <td>...</td>\n",
       "      <td>...</td>\n",
       "      <td>...</td>\n",
       "      <td>...</td>\n",
       "      <td>...</td>\n",
       "      <td>...</td>\n",
       "      <td>...</td>\n",
       "      <td>...</td>\n",
       "      <td>...</td>\n",
       "      <td>...</td>\n",
       "      <td>...</td>\n",
       "      <td>...</td>\n",
       "      <td>...</td>\n",
       "      <td>...</td>\n",
       "      <td>...</td>\n",
       "      <td>...</td>\n",
       "      <td>...</td>\n",
       "      <td>...</td>\n",
       "      <td>...</td>\n",
       "      <td>...</td>\n",
       "      <td>...</td>\n",
       "      <td>...</td>\n",
       "      <td>...</td>\n",
       "      <td>...</td>\n",
       "      <td>...</td>\n",
       "      <td>...</td>\n",
       "      <td>...</td>\n",
       "      <td>...</td>\n",
       "      <td>...</td>\n",
       "      <td>...</td>\n",
       "      <td>...</td>\n",
       "    </tr>\n",
       "    <tr>\n",
       "      <th>199518</th>\n",
       "      <td>0.966667</td>\n",
       "      <td>0.0</td>\n",
       "      <td>0.000000</td>\n",
       "      <td>0.00000</td>\n",
       "      <td>0.000000</td>\n",
       "      <td>0.0</td>\n",
       "      <td>0.0</td>\n",
       "      <td>1.0</td>\n",
       "      <td>0.0</td>\n",
       "      <td>0.0</td>\n",
       "      <td>1.0</td>\n",
       "      <td>1.0</td>\n",
       "      <td>0.0</td>\n",
       "      <td>0.0</td>\n",
       "      <td>0.0</td>\n",
       "      <td>1.0</td>\n",
       "      <td>0.0</td>\n",
       "      <td>0.0</td>\n",
       "      <td>0.0</td>\n",
       "      <td>0.0</td>\n",
       "      <td>0.0</td>\n",
       "      <td>0.0</td>\n",
       "      <td>0.0</td>\n",
       "      <td>0.0</td>\n",
       "      <td>0.0</td>\n",
       "      <td>1.0</td>\n",
       "      <td>0.0</td>\n",
       "      <td>0.0</td>\n",
       "      <td>0.0</td>\n",
       "      <td>0.0</td>\n",
       "      <td>0.0</td>\n",
       "      <td>0.0</td>\n",
       "      <td>0.0</td>\n",
       "      <td>0.0</td>\n",
       "      <td>0.0</td>\n",
       "      <td>0.0</td>\n",
       "      <td>0.0</td>\n",
       "      <td>0.0</td>\n",
       "      <td>0.0</td>\n",
       "      <td>0.0</td>\n",
       "      <td>0.0</td>\n",
       "      <td>0.0</td>\n",
       "      <td>0.0</td>\n",
       "      <td>0.0</td>\n",
       "      <td>0.0</td>\n",
       "      <td>0.0</td>\n",
       "      <td>0.0</td>\n",
       "      <td>0.0</td>\n",
       "      <td>0.0</td>\n",
       "      <td>1.0</td>\n",
       "      <td>0.0</td>\n",
       "      <td>0.0</td>\n",
       "      <td>0.0</td>\n",
       "      <td>0.0</td>\n",
       "      <td>0.0</td>\n",
       "      <td>0.0</td>\n",
       "      <td>0.0</td>\n",
       "      <td>0.0</td>\n",
       "      <td>0.0</td>\n",
       "      <td>0.0</td>\n",
       "      <td>0.0</td>\n",
       "      <td>0.0</td>\n",
       "      <td>0.0</td>\n",
       "      <td>0.0</td>\n",
       "      <td>1.0</td>\n",
       "      <td>0.0</td>\n",
       "      <td>0.0</td>\n",
       "      <td>0.0</td>\n",
       "      <td>0.0</td>\n",
       "      <td>1.0</td>\n",
       "      <td>0.0</td>\n",
       "      <td>0.0</td>\n",
       "      <td>0.0</td>\n",
       "      <td>0.0</td>\n",
       "      <td>0.0</td>\n",
       "      <td>0.0</td>\n",
       "      <td>0.0</td>\n",
       "      <td>0.0</td>\n",
       "      <td>1.0</td>\n",
       "      <td>0.0</td>\n",
       "      <td>0.0</td>\n",
       "      <td>1.0</td>\n",
       "      <td>0.0</td>\n",
       "      <td>0.0</td>\n",
       "      <td>0.0</td>\n",
       "      <td>0.0</td>\n",
       "      <td>0.0</td>\n",
       "      <td>0.0</td>\n",
       "      <td>0.0</td>\n",
       "      <td>0.0</td>\n",
       "      <td>1.0</td>\n",
       "    </tr>\n",
       "    <tr>\n",
       "      <th>199519</th>\n",
       "      <td>0.722222</td>\n",
       "      <td>0.0</td>\n",
       "      <td>0.064181</td>\n",
       "      <td>0.00009</td>\n",
       "      <td>0.166667</td>\n",
       "      <td>0.0</td>\n",
       "      <td>1.0</td>\n",
       "      <td>1.0</td>\n",
       "      <td>1.0</td>\n",
       "      <td>1.0</td>\n",
       "      <td>1.0</td>\n",
       "      <td>1.0</td>\n",
       "      <td>0.0</td>\n",
       "      <td>1.0</td>\n",
       "      <td>0.0</td>\n",
       "      <td>0.0</td>\n",
       "      <td>0.0</td>\n",
       "      <td>0.0</td>\n",
       "      <td>0.0</td>\n",
       "      <td>0.0</td>\n",
       "      <td>0.0</td>\n",
       "      <td>0.0</td>\n",
       "      <td>0.0</td>\n",
       "      <td>0.0</td>\n",
       "      <td>0.0</td>\n",
       "      <td>1.0</td>\n",
       "      <td>0.0</td>\n",
       "      <td>0.0</td>\n",
       "      <td>1.0</td>\n",
       "      <td>0.0</td>\n",
       "      <td>0.0</td>\n",
       "      <td>0.0</td>\n",
       "      <td>0.0</td>\n",
       "      <td>0.0</td>\n",
       "      <td>0.0</td>\n",
       "      <td>0.0</td>\n",
       "      <td>0.0</td>\n",
       "      <td>0.0</td>\n",
       "      <td>0.0</td>\n",
       "      <td>0.0</td>\n",
       "      <td>0.0</td>\n",
       "      <td>0.0</td>\n",
       "      <td>0.0</td>\n",
       "      <td>0.0</td>\n",
       "      <td>0.0</td>\n",
       "      <td>0.0</td>\n",
       "      <td>0.0</td>\n",
       "      <td>0.0</td>\n",
       "      <td>0.0</td>\n",
       "      <td>0.0</td>\n",
       "      <td>0.0</td>\n",
       "      <td>0.0</td>\n",
       "      <td>1.0</td>\n",
       "      <td>0.0</td>\n",
       "      <td>0.0</td>\n",
       "      <td>0.0</td>\n",
       "      <td>0.0</td>\n",
       "      <td>0.0</td>\n",
       "      <td>0.0</td>\n",
       "      <td>0.0</td>\n",
       "      <td>0.0</td>\n",
       "      <td>0.0</td>\n",
       "      <td>0.0</td>\n",
       "      <td>0.0</td>\n",
       "      <td>0.0</td>\n",
       "      <td>0.0</td>\n",
       "      <td>0.0</td>\n",
       "      <td>0.0</td>\n",
       "      <td>0.0</td>\n",
       "      <td>1.0</td>\n",
       "      <td>0.0</td>\n",
       "      <td>0.0</td>\n",
       "      <td>0.0</td>\n",
       "      <td>0.0</td>\n",
       "      <td>1.0</td>\n",
       "      <td>0.0</td>\n",
       "      <td>0.0</td>\n",
       "      <td>0.0</td>\n",
       "      <td>0.0</td>\n",
       "      <td>0.0</td>\n",
       "      <td>0.0</td>\n",
       "      <td>1.0</td>\n",
       "      <td>0.0</td>\n",
       "      <td>0.0</td>\n",
       "      <td>0.0</td>\n",
       "      <td>0.0</td>\n",
       "      <td>0.0</td>\n",
       "      <td>0.0</td>\n",
       "      <td>0.0</td>\n",
       "      <td>0.0</td>\n",
       "      <td>1.0</td>\n",
       "    </tr>\n",
       "    <tr>\n",
       "      <th>199520</th>\n",
       "      <td>0.522222</td>\n",
       "      <td>0.0</td>\n",
       "      <td>0.000000</td>\n",
       "      <td>0.00157</td>\n",
       "      <td>1.000000</td>\n",
       "      <td>0.0</td>\n",
       "      <td>1.0</td>\n",
       "      <td>1.0</td>\n",
       "      <td>0.0</td>\n",
       "      <td>0.0</td>\n",
       "      <td>0.0</td>\n",
       "      <td>0.0</td>\n",
       "      <td>0.0</td>\n",
       "      <td>1.0</td>\n",
       "      <td>0.0</td>\n",
       "      <td>0.0</td>\n",
       "      <td>0.0</td>\n",
       "      <td>0.0</td>\n",
       "      <td>0.0</td>\n",
       "      <td>0.0</td>\n",
       "      <td>0.0</td>\n",
       "      <td>0.0</td>\n",
       "      <td>0.0</td>\n",
       "      <td>0.0</td>\n",
       "      <td>0.0</td>\n",
       "      <td>1.0</td>\n",
       "      <td>0.0</td>\n",
       "      <td>0.0</td>\n",
       "      <td>0.0</td>\n",
       "      <td>0.0</td>\n",
       "      <td>0.0</td>\n",
       "      <td>0.0</td>\n",
       "      <td>0.0</td>\n",
       "      <td>0.0</td>\n",
       "      <td>0.0</td>\n",
       "      <td>0.0</td>\n",
       "      <td>0.0</td>\n",
       "      <td>0.0</td>\n",
       "      <td>0.0</td>\n",
       "      <td>0.0</td>\n",
       "      <td>0.0</td>\n",
       "      <td>0.0</td>\n",
       "      <td>0.0</td>\n",
       "      <td>0.0</td>\n",
       "      <td>0.0</td>\n",
       "      <td>0.0</td>\n",
       "      <td>0.0</td>\n",
       "      <td>0.0</td>\n",
       "      <td>0.0</td>\n",
       "      <td>1.0</td>\n",
       "      <td>0.0</td>\n",
       "      <td>0.0</td>\n",
       "      <td>0.0</td>\n",
       "      <td>0.0</td>\n",
       "      <td>0.0</td>\n",
       "      <td>0.0</td>\n",
       "      <td>0.0</td>\n",
       "      <td>0.0</td>\n",
       "      <td>0.0</td>\n",
       "      <td>0.0</td>\n",
       "      <td>0.0</td>\n",
       "      <td>0.0</td>\n",
       "      <td>0.0</td>\n",
       "      <td>0.0</td>\n",
       "      <td>1.0</td>\n",
       "      <td>0.0</td>\n",
       "      <td>1.0</td>\n",
       "      <td>0.0</td>\n",
       "      <td>0.0</td>\n",
       "      <td>0.0</td>\n",
       "      <td>0.0</td>\n",
       "      <td>0.0</td>\n",
       "      <td>0.0</td>\n",
       "      <td>0.0</td>\n",
       "      <td>0.0</td>\n",
       "      <td>0.0</td>\n",
       "      <td>0.0</td>\n",
       "      <td>0.0</td>\n",
       "      <td>1.0</td>\n",
       "      <td>0.0</td>\n",
       "      <td>0.0</td>\n",
       "      <td>1.0</td>\n",
       "      <td>0.0</td>\n",
       "      <td>0.0</td>\n",
       "      <td>0.0</td>\n",
       "      <td>0.0</td>\n",
       "      <td>0.0</td>\n",
       "      <td>0.0</td>\n",
       "      <td>0.0</td>\n",
       "      <td>0.0</td>\n",
       "      <td>1.0</td>\n",
       "    </tr>\n",
       "    <tr>\n",
       "      <th>199521</th>\n",
       "      <td>0.177778</td>\n",
       "      <td>0.0</td>\n",
       "      <td>0.000000</td>\n",
       "      <td>0.00000</td>\n",
       "      <td>0.000000</td>\n",
       "      <td>0.0</td>\n",
       "      <td>0.0</td>\n",
       "      <td>0.0</td>\n",
       "      <td>0.0</td>\n",
       "      <td>1.0</td>\n",
       "      <td>1.0</td>\n",
       "      <td>1.0</td>\n",
       "      <td>0.0</td>\n",
       "      <td>0.0</td>\n",
       "      <td>0.0</td>\n",
       "      <td>1.0</td>\n",
       "      <td>0.0</td>\n",
       "      <td>0.0</td>\n",
       "      <td>0.0</td>\n",
       "      <td>0.0</td>\n",
       "      <td>0.0</td>\n",
       "      <td>0.0</td>\n",
       "      <td>0.0</td>\n",
       "      <td>0.0</td>\n",
       "      <td>0.0</td>\n",
       "      <td>1.0</td>\n",
       "      <td>0.0</td>\n",
       "      <td>0.0</td>\n",
       "      <td>0.0</td>\n",
       "      <td>0.0</td>\n",
       "      <td>0.0</td>\n",
       "      <td>0.0</td>\n",
       "      <td>0.0</td>\n",
       "      <td>0.0</td>\n",
       "      <td>0.0</td>\n",
       "      <td>0.0</td>\n",
       "      <td>0.0</td>\n",
       "      <td>0.0</td>\n",
       "      <td>0.0</td>\n",
       "      <td>0.0</td>\n",
       "      <td>0.0</td>\n",
       "      <td>0.0</td>\n",
       "      <td>0.0</td>\n",
       "      <td>0.0</td>\n",
       "      <td>0.0</td>\n",
       "      <td>0.0</td>\n",
       "      <td>0.0</td>\n",
       "      <td>0.0</td>\n",
       "      <td>0.0</td>\n",
       "      <td>1.0</td>\n",
       "      <td>0.0</td>\n",
       "      <td>0.0</td>\n",
       "      <td>0.0</td>\n",
       "      <td>0.0</td>\n",
       "      <td>0.0</td>\n",
       "      <td>0.0</td>\n",
       "      <td>0.0</td>\n",
       "      <td>0.0</td>\n",
       "      <td>0.0</td>\n",
       "      <td>0.0</td>\n",
       "      <td>0.0</td>\n",
       "      <td>0.0</td>\n",
       "      <td>0.0</td>\n",
       "      <td>0.0</td>\n",
       "      <td>1.0</td>\n",
       "      <td>0.0</td>\n",
       "      <td>0.0</td>\n",
       "      <td>0.0</td>\n",
       "      <td>0.0</td>\n",
       "      <td>1.0</td>\n",
       "      <td>0.0</td>\n",
       "      <td>0.0</td>\n",
       "      <td>0.0</td>\n",
       "      <td>0.0</td>\n",
       "      <td>0.0</td>\n",
       "      <td>0.0</td>\n",
       "      <td>0.0</td>\n",
       "      <td>0.0</td>\n",
       "      <td>1.0</td>\n",
       "      <td>0.0</td>\n",
       "      <td>0.0</td>\n",
       "      <td>0.0</td>\n",
       "      <td>0.0</td>\n",
       "      <td>1.0</td>\n",
       "      <td>0.0</td>\n",
       "      <td>0.0</td>\n",
       "      <td>1.0</td>\n",
       "      <td>0.0</td>\n",
       "      <td>0.0</td>\n",
       "      <td>0.0</td>\n",
       "      <td>0.0</td>\n",
       "    </tr>\n",
       "    <tr>\n",
       "      <th>199522</th>\n",
       "      <td>0.355556</td>\n",
       "      <td>0.0</td>\n",
       "      <td>0.000000</td>\n",
       "      <td>0.00000</td>\n",
       "      <td>1.000000</td>\n",
       "      <td>0.0</td>\n",
       "      <td>1.0</td>\n",
       "      <td>0.0</td>\n",
       "      <td>1.0</td>\n",
       "      <td>1.0</td>\n",
       "      <td>1.0</td>\n",
       "      <td>1.0</td>\n",
       "      <td>0.0</td>\n",
       "      <td>1.0</td>\n",
       "      <td>0.0</td>\n",
       "      <td>0.0</td>\n",
       "      <td>0.0</td>\n",
       "      <td>0.0</td>\n",
       "      <td>0.0</td>\n",
       "      <td>0.0</td>\n",
       "      <td>0.0</td>\n",
       "      <td>0.0</td>\n",
       "      <td>0.0</td>\n",
       "      <td>1.0</td>\n",
       "      <td>0.0</td>\n",
       "      <td>0.0</td>\n",
       "      <td>0.0</td>\n",
       "      <td>0.0</td>\n",
       "      <td>0.0</td>\n",
       "      <td>0.0</td>\n",
       "      <td>0.0</td>\n",
       "      <td>0.0</td>\n",
       "      <td>0.0</td>\n",
       "      <td>0.0</td>\n",
       "      <td>0.0</td>\n",
       "      <td>0.0</td>\n",
       "      <td>0.0</td>\n",
       "      <td>0.0</td>\n",
       "      <td>1.0</td>\n",
       "      <td>0.0</td>\n",
       "      <td>0.0</td>\n",
       "      <td>0.0</td>\n",
       "      <td>0.0</td>\n",
       "      <td>0.0</td>\n",
       "      <td>0.0</td>\n",
       "      <td>0.0</td>\n",
       "      <td>0.0</td>\n",
       "      <td>0.0</td>\n",
       "      <td>0.0</td>\n",
       "      <td>0.0</td>\n",
       "      <td>0.0</td>\n",
       "      <td>0.0</td>\n",
       "      <td>0.0</td>\n",
       "      <td>0.0</td>\n",
       "      <td>0.0</td>\n",
       "      <td>0.0</td>\n",
       "      <td>1.0</td>\n",
       "      <td>0.0</td>\n",
       "      <td>0.0</td>\n",
       "      <td>0.0</td>\n",
       "      <td>0.0</td>\n",
       "      <td>0.0</td>\n",
       "      <td>0.0</td>\n",
       "      <td>0.0</td>\n",
       "      <td>0.0</td>\n",
       "      <td>1.0</td>\n",
       "      <td>0.0</td>\n",
       "      <td>0.0</td>\n",
       "      <td>0.0</td>\n",
       "      <td>0.0</td>\n",
       "      <td>0.0</td>\n",
       "      <td>0.0</td>\n",
       "      <td>0.0</td>\n",
       "      <td>1.0</td>\n",
       "      <td>0.0</td>\n",
       "      <td>0.0</td>\n",
       "      <td>0.0</td>\n",
       "      <td>0.0</td>\n",
       "      <td>0.0</td>\n",
       "      <td>0.0</td>\n",
       "      <td>0.0</td>\n",
       "      <td>0.0</td>\n",
       "      <td>0.0</td>\n",
       "      <td>1.0</td>\n",
       "      <td>0.0</td>\n",
       "      <td>0.0</td>\n",
       "      <td>0.0</td>\n",
       "      <td>0.0</td>\n",
       "      <td>0.0</td>\n",
       "      <td>0.0</td>\n",
       "      <td>1.0</td>\n",
       "    </tr>\n",
       "  </tbody>\n",
       "</table>\n",
       "<p>199523 rows × 91 columns</p>\n",
       "</div>"
      ],
      "text/plain": [
       "              0    1         2        3         4    5    6    7    8    9    10   11   12   13   14   15   16   17   18   19   20   21   22   23   24   25   26   27   28   29   30   31   32   33   34   35   36   37   38   39   40   41   42   43   44   45   46   47   48   49   50   51   52   53   54   55   56   57   58   59   60   61   62   63   64   65   66   67   68   69   70   71   72   73   74   75   76   77   78   79   80   81   82   83   84   85   86   87   88   89   90\n",
       "0       0.811111  0.0  0.000000  0.00000  0.000000  0.0  0.0  0.0  0.0  1.0  1.0  1.0  0.0  0.0  0.0  1.0  0.0  0.0  0.0  0.0  0.0  0.0  0.0  0.0  0.0  1.0  0.0  0.0  0.0  0.0  0.0  0.0  0.0  0.0  0.0  0.0  0.0  0.0  0.0  0.0  0.0  0.0  0.0  0.0  0.0  0.0  0.0  0.0  0.0  1.0  0.0  0.0  0.0  0.0  0.0  0.0  0.0  0.0  0.0  0.0  0.0  0.0  0.0  0.0  1.0  0.0  0.0  0.0  0.0  1.0  0.0  0.0  0.0  0.0  0.0  0.0  0.0  0.0  1.0  0.0  0.0  0.0  0.0  0.0  0.0  1.0  0.0  0.0  0.0  0.0  1.0\n",
       "1       0.644444  0.0  0.000000  0.00000  0.166667  0.0  1.0  1.0  0.0  1.0  1.0  1.0  0.0  1.0  0.0  0.0  0.0  0.0  0.0  0.0  0.0  0.0  0.0  0.0  0.0  1.0  0.0  0.0  0.0  0.0  1.0  0.0  0.0  0.0  0.0  0.0  0.0  0.0  0.0  0.0  0.0  0.0  0.0  0.0  0.0  0.0  0.0  0.0  0.0  0.0  0.0  0.0  0.0  0.0  0.0  0.0  0.0  1.0  0.0  0.0  0.0  0.0  0.0  0.0  0.0  0.0  0.0  0.0  0.0  1.0  0.0  0.0  0.0  0.0  0.0  1.0  0.0  0.0  0.0  1.0  0.0  0.0  0.0  0.0  0.0  0.0  0.0  0.0  0.0  0.0  1.0\n",
       "2       0.200000  0.0  0.000000  0.00000  0.000000  0.0  0.0  0.0  0.0  0.0  0.0  0.0  0.0  0.0  0.0  1.0  0.0  0.0  0.0  0.0  0.0  0.0  1.0  0.0  0.0  0.0  0.0  0.0  0.0  0.0  0.0  0.0  0.0  0.0  0.0  0.0  0.0  0.0  0.0  0.0  0.0  0.0  0.0  0.0  0.0  0.0  0.0  0.0  0.0  1.0  0.0  0.0  0.0  0.0  0.0  0.0  0.0  0.0  0.0  0.0  0.0  0.0  0.0  0.0  1.0  1.0  0.0  0.0  0.0  0.0  0.0  0.0  0.0  0.0  0.0  0.0  0.0  0.0  1.0  0.0  0.0  0.0  0.0  1.0  0.0  0.0  0.0  0.0  0.0  0.0  1.0\n",
       "3       0.100000  0.0  0.000000  0.00000  0.000000  0.0  0.0  0.0  1.0  1.0  1.0  1.0  0.0  1.0  0.0  0.0  0.0  0.0  0.0  0.0  0.0  0.0  0.0  0.0  0.0  1.0  0.0  0.0  0.0  0.0  0.0  0.0  0.0  0.0  0.0  0.0  0.0  0.0  0.0  0.0  0.0  0.0  0.0  0.0  0.0  0.0  0.0  0.0  0.0  1.0  0.0  0.0  0.0  0.0  0.0  0.0  0.0  0.0  0.0  0.0  0.0  0.0  0.0  0.0  1.0  0.0  0.0  0.0  0.0  1.0  0.0  0.0  0.0  0.0  0.0  0.0  0.0  0.0  1.0  0.0  0.0  0.0  0.0  1.0  0.0  0.0  1.0  0.0  0.0  0.0  0.0\n",
       "4       0.111111  0.0  0.000000  0.00000  0.000000  0.0  0.0  0.0  1.0  1.0  1.0  1.0  0.0  1.0  0.0  0.0  0.0  0.0  0.0  0.0  0.0  0.0  0.0  0.0  0.0  1.0  0.0  0.0  0.0  0.0  0.0  0.0  0.0  0.0  0.0  0.0  0.0  0.0  0.0  0.0  0.0  0.0  0.0  0.0  0.0  0.0  0.0  0.0  0.0  1.0  0.0  0.0  0.0  0.0  0.0  0.0  0.0  0.0  0.0  0.0  0.0  0.0  0.0  0.0  1.0  0.0  0.0  0.0  0.0  1.0  0.0  0.0  0.0  0.0  0.0  0.0  0.0  0.0  1.0  0.0  0.0  0.0  0.0  1.0  0.0  0.0  1.0  0.0  0.0  0.0  0.0\n",
       "...          ...  ...       ...      ...       ...  ...  ...  ...  ...  ...  ...  ...  ...  ...  ...  ...  ...  ...  ...  ...  ...  ...  ...  ...  ...  ...  ...  ...  ...  ...  ...  ...  ...  ...  ...  ...  ...  ...  ...  ...  ...  ...  ...  ...  ...  ...  ...  ...  ...  ...  ...  ...  ...  ...  ...  ...  ...  ...  ...  ...  ...  ...  ...  ...  ...  ...  ...  ...  ...  ...  ...  ...  ...  ...  ...  ...  ...  ...  ...  ...  ...  ...  ...  ...  ...  ...  ...  ...  ...  ...  ...\n",
       "199518  0.966667  0.0  0.000000  0.00000  0.000000  0.0  0.0  1.0  0.0  0.0  1.0  1.0  0.0  0.0  0.0  1.0  0.0  0.0  0.0  0.0  0.0  0.0  0.0  0.0  0.0  1.0  0.0  0.0  0.0  0.0  0.0  0.0  0.0  0.0  0.0  0.0  0.0  0.0  0.0  0.0  0.0  0.0  0.0  0.0  0.0  0.0  0.0  0.0  0.0  1.0  0.0  0.0  0.0  0.0  0.0  0.0  0.0  0.0  0.0  0.0  0.0  0.0  0.0  0.0  1.0  0.0  0.0  0.0  0.0  1.0  0.0  0.0  0.0  0.0  0.0  0.0  0.0  0.0  1.0  0.0  0.0  1.0  0.0  0.0  0.0  0.0  0.0  0.0  0.0  0.0  1.0\n",
       "199519  0.722222  0.0  0.064181  0.00009  0.166667  0.0  1.0  1.0  1.0  1.0  1.0  1.0  0.0  1.0  0.0  0.0  0.0  0.0  0.0  0.0  0.0  0.0  0.0  0.0  0.0  1.0  0.0  0.0  1.0  0.0  0.0  0.0  0.0  0.0  0.0  0.0  0.0  0.0  0.0  0.0  0.0  0.0  0.0  0.0  0.0  0.0  0.0  0.0  0.0  0.0  0.0  0.0  1.0  0.0  0.0  0.0  0.0  0.0  0.0  0.0  0.0  0.0  0.0  0.0  0.0  0.0  0.0  0.0  0.0  1.0  0.0  0.0  0.0  0.0  1.0  0.0  0.0  0.0  0.0  0.0  0.0  1.0  0.0  0.0  0.0  0.0  0.0  0.0  0.0  0.0  1.0\n",
       "199520  0.522222  0.0  0.000000  0.00157  1.000000  0.0  1.0  1.0  0.0  0.0  0.0  0.0  0.0  1.0  0.0  0.0  0.0  0.0  0.0  0.0  0.0  0.0  0.0  0.0  0.0  1.0  0.0  0.0  0.0  0.0  0.0  0.0  0.0  0.0  0.0  0.0  0.0  0.0  0.0  0.0  0.0  0.0  0.0  0.0  0.0  0.0  0.0  0.0  0.0  1.0  0.0  0.0  0.0  0.0  0.0  0.0  0.0  0.0  0.0  0.0  0.0  0.0  0.0  0.0  1.0  0.0  1.0  0.0  0.0  0.0  0.0  0.0  0.0  0.0  0.0  0.0  0.0  0.0  1.0  0.0  0.0  1.0  0.0  0.0  0.0  0.0  0.0  0.0  0.0  0.0  1.0\n",
       "199521  0.177778  0.0  0.000000  0.00000  0.000000  0.0  0.0  0.0  0.0  1.0  1.0  1.0  0.0  0.0  0.0  1.0  0.0  0.0  0.0  0.0  0.0  0.0  0.0  0.0  0.0  1.0  0.0  0.0  0.0  0.0  0.0  0.0  0.0  0.0  0.0  0.0  0.0  0.0  0.0  0.0  0.0  0.0  0.0  0.0  0.0  0.0  0.0  0.0  0.0  1.0  0.0  0.0  0.0  0.0  0.0  0.0  0.0  0.0  0.0  0.0  0.0  0.0  0.0  0.0  1.0  0.0  0.0  0.0  0.0  1.0  0.0  0.0  0.0  0.0  0.0  0.0  0.0  0.0  1.0  0.0  0.0  0.0  0.0  1.0  0.0  0.0  1.0  0.0  0.0  0.0  0.0\n",
       "199522  0.355556  0.0  0.000000  0.00000  1.000000  0.0  1.0  0.0  1.0  1.0  1.0  1.0  0.0  1.0  0.0  0.0  0.0  0.0  0.0  0.0  0.0  0.0  0.0  1.0  0.0  0.0  0.0  0.0  0.0  0.0  0.0  0.0  0.0  0.0  0.0  0.0  0.0  0.0  1.0  0.0  0.0  0.0  0.0  0.0  0.0  0.0  0.0  0.0  0.0  0.0  0.0  0.0  0.0  0.0  0.0  0.0  1.0  0.0  0.0  0.0  0.0  0.0  0.0  0.0  0.0  1.0  0.0  0.0  0.0  0.0  0.0  0.0  0.0  1.0  0.0  0.0  0.0  0.0  0.0  0.0  0.0  0.0  0.0  1.0  0.0  0.0  0.0  0.0  0.0  0.0  1.0\n",
       "\n",
       "[199523 rows x 91 columns]"
      ]
     },
     "execution_count": 153,
     "metadata": {},
     "output_type": "execute_result"
    }
   ],
   "source": [
    "# to see how the data looks after the ColumnTransformer\n",
    "pd.DataFrame.sparse.from_spmatrix(processed_data)"
   ]
  },
  {
   "cell_type": "code",
   "execution_count": 199,
   "metadata": {},
   "outputs": [
    {
     "data": {
      "text/plain": [
       "<199523x2 sparse matrix of type '<class 'numpy.float64'>'\n",
       "\twith 28520 stored elements in Compressed Sparse Row format>"
      ]
     },
     "execution_count": 199,
     "metadata": {},
     "output_type": "execute_result"
    }
   ],
   "source": [
    "processed_data[0:processed_data.shape[0],[2,3]]"
   ]
  },
  {
   "cell_type": "code",
   "execution_count": 172,
   "metadata": {},
   "outputs": [],
   "source": [
    "# a function to get the column names after ColumnTransformer\n",
    "def get_column_names_from_ColumnTransformer(column_transformer):    \n",
    "    col_name = []\n",
    "    for transformer_in_columns in column_transformer.transformers_[:-1]:#the last transformer is ColumnTransformer's 'remainder'\n",
    "        raw_col_name = transformer_in_columns[2]\n",
    "        if isinstance(transformer_in_columns[1],Pipeline): \n",
    "            transformer = transformer_in_columns[1].steps[-1][1]\n",
    "        else:\n",
    "            transformer = transformer_in_columns[1]\n",
    "        try:\n",
    "            names = transformer.get_feature_names()\n",
    "        except AttributeError: # if no 'get_feature_names' function, use raw column name\n",
    "            names = raw_col_name\n",
    "        if isinstance(names,np.ndarray): # eg.\n",
    "            col_name += names.tolist()\n",
    "        elif isinstance(names,list):\n",
    "            col_name += names    \n",
    "        elif isinstance(names,str):\n",
    "            col_name.append(names)\n",
    "    return col_name\n",
    "col_features = np.array(get_column_names_from_ColumnTransformer(preprocessor))"
   ]
  },
  {
   "cell_type": "code",
   "execution_count": 214,
   "metadata": {},
   "outputs": [
    {
     "data": {
      "text/plain": [
       "SelectFromModel(estimator=RandomForestClassifier(bootstrap=True, ccp_alpha=0.0,\n",
       "                                                 class_weight=None,\n",
       "                                                 criterion='gini', max_depth=8,\n",
       "                                                 max_features='auto',\n",
       "                                                 max_leaf_nodes=None,\n",
       "                                                 max_samples=None,\n",
       "                                                 min_impurity_decrease=0.0,\n",
       "                                                 min_impurity_split=None,\n",
       "                                                 min_samples_leaf=1,\n",
       "                                                 min_samples_split=2,\n",
       "                                                 min_weight_fraction_leaf=0.0,\n",
       "                                                 n_estimators=200, n_jobs=None,\n",
       "                                                 oob_score=False,\n",
       "                                                 random_state=42, verbose=0,\n",
       "                                                 warm_start=False),\n",
       "                max_features=22, norm_order=1, prefit=False, threshold=None)"
      ]
     },
     "execution_count": 214,
     "metadata": {},
     "output_type": "execute_result"
    }
   ],
   "source": [
    "from sklearn.feature_selection import SelectFromModel\n",
    "\n",
    "# rf_selector = SelectFromModel(LogisticRegression(max_iter=1000, C=10), max_features=22)\n",
    "rf_selector = SelectFromModel(RandomForestClassifier(random_state=42, max_depth=8, n_estimators=200), max_features=22)\n",
    "rf_selector.fit(processed_data, target)"
   ]
  },
  {
   "cell_type": "code",
   "execution_count": 215,
   "metadata": {},
   "outputs": [
    {
     "data": {
      "text/plain": [
       "array(['age', 'capital_gains', 'divdends_from_stocks',\n",
       "       'family_members_under', 'capital_losses', 'weeks_worked',\n",
       "       'is_male', 'x2_null', 'x3_Adm support including clerical',\n",
       "       'x3_Executive admin and managerial', 'x3_Professional specialty',\n",
       "       'x3_null', 'x5_Self-employed-incorporated', 'x5_null',\n",
       "       'x6_Married-civilian spouse present', 'x6_Never married'],\n",
       "      dtype='<U46')"
      ]
     },
     "execution_count": 215,
     "metadata": {},
     "output_type": "execute_result"
    }
   ],
   "source": [
    "# get the index and name\n",
    "rf_support = rf_selector.get_support()\n",
    "rf_ind = [i for i,num in enumerate(rf_support) if num==True]\n",
    "col_features[rf_ind]  # this shows what features were considered important"
   ]
  },
  {
   "cell_type": "markdown",
   "metadata": {
    "heading_collapsed": "true"
   },
   "source": [
    "#### Train and evaluate"
   ]
  },
  {
   "cell_type": "code",
   "execution_count": 216,
   "metadata": {},
   "outputs": [
    {
     "name": "stdout",
     "output_type": "stream",
     "text": [
      "Mean accuracy of model: 0.951\n"
     ]
    }
   ],
   "source": [
    "# train RandomForestClassifier again using the features pulled\n",
    "new_data = processed_data[0:processed_data.shape[0], rf_ind]\n",
    "\n",
    "# split and train\n",
    "X_train2, X_test2, y_train2, y_test2 = train_test_split(new_data, target, test_size=0.2)\n",
    "\n",
    "# train and evaluate classifier\n",
    "clf = RandomForestClassifier(random_state=42, max_depth=8, n_estimators=200)\n",
    "# clf = LogisticRegression(max_iter=1000, C=10)\n",
    "clf.fit(X_train2, y_train2)\n",
    "print(f\"Mean accuracy of model: {clf.score(X_test2, y_test2):.3f}\")  # score takes in a test data and true label for test data, and return the average accuracy"
   ]
  },
  {
   "cell_type": "code",
   "execution_count": 217,
   "metadata": {},
   "outputs": [
    {
     "name": "stdout",
     "output_type": "stream",
     "text": [
      "[[37296   181]\n",
      " [ 1774   654]]\n",
      "              precision    recall  f1-score   support\n",
      "\n",
      "           0       0.95      1.00      0.97     37477\n",
      "           1       0.78      0.27      0.40      2428\n",
      "\n",
      "    accuracy                           0.95     39905\n",
      "   macro avg       0.87      0.63      0.69     39905\n",
      "weighted avg       0.94      0.95      0.94     39905\n",
      "\n"
     ]
    }
   ],
   "source": [
    "# print confusion matrix\n",
    "y_pred2 = clf.predict(X_test2)\n",
    "print(confusion_matrix(y_test2, y_pred2))\n",
    "print(classification_report(y_test2, y_pred2)) "
   ]
  },
  {
   "cell_type": "markdown",
   "metadata": {
    "heading_collapsed": "true"
   },
   "source": [
    "#### Roc/AUC"
   ]
  },
  {
   "cell_type": "code",
   "execution_count": 219,
   "metadata": {},
   "outputs": [
    {
     "name": "stderr",
     "output_type": "stream",
     "text": [
      "/home/han/anaconda3/lib/python3.7/site-packages/sklearn/dummy.py:132: FutureWarning: The default value of strategy will change from stratified to prior in 0.24.\n",
      "  \"stratified to prior in 0.24.\", FutureWarning)\n"
     ]
    },
    {
     "data": {
      "text/plain": [
       "Text(0.5, 1.0, 'ROC-AUC For Random Forest Classifier')"
      ]
     },
     "execution_count": 219,
     "metadata": {},
     "output_type": "execute_result"
    },
    {
     "data": {
      "image/png": "[encoded data removed]",
      "text/plain": [
       "<Figure size 720x360 with 1 Axes>"
      ]
     },
     "metadata": {
      "needs_background": "light"
     },
     "output_type": "display_data"
    }
   ],
   "source": [
    "# roc/auc\n",
    "from sklearn.metrics import auc, roc_curve, roc_auc_score\n",
    "\n",
    "# using dummy\n",
    "from sklearn.dummy import DummyClassifier\n",
    "dummy = DummyClassifier()\n",
    "dummy.fit(X_train2, y_train2)\n",
    "yhat = dummy.predict_proba(X_test2)[:,1]\n",
    "dummy_roc_auc = roc_auc_score(y_test2, yhat)  # it is 0.5 as should be\n",
    "fpr_dummy, tpr_dummy, dummy_threshold = roc_curve(y_test2, yhat)\n",
    "\n",
    "# using data\n",
    "fpr, tpr, threshold = roc_curve(y_test2, y_pred2)\n",
    "roc_auc = auc(fpr, tpr)  # gives the same results as roc_auc_score(y_test, y_pred)\n",
    "plt.figure(figsize=(10,5))\n",
    "plt.plot(fpr,tpr,'b',label='AUC = %0.2f'% roc_auc)\n",
    "plt.plot(fpr_dummy, tpr_dummy, \"r--\", label='Dummy AUC = %0.2f'% dummy_roc_auc)\n",
    "plt.legend(loc='lower right')\n",
    "# plt.plot([0,1],[0,1],'k--')  # basically connecting from 0,0 to 1,1\n",
    "plt.xlabel('False Positive Rate')\n",
    "plt.ylabel('True Positive Rate')\n",
    "plt.title(\"ROC-AUC For Random Forest Classifier\")"
   ]
  },
  {
   "cell_type": "markdown",
   "metadata": {
    "heading_collapsed": "true"
   },
   "source": [
    "#### Precision-recall"
   ]
  },
  {
   "cell_type": "code",
   "execution_count": 220,
   "metadata": {},
   "outputs": [
    {
     "name": "stdout",
     "output_type": "stream",
     "text": [
      "Dummy auc is 0.08917070864011335.\n"
     ]
    },
    {
     "name": "stderr",
     "output_type": "stream",
     "text": [
      "/home/han/anaconda3/lib/python3.7/site-packages/sklearn/dummy.py:132: FutureWarning: The default value of strategy will change from stratified to prior in 0.24.\n",
      "  \"stratified to prior in 0.24.\", FutureWarning)\n"
     ]
    },
    {
     "data": {
      "text/plain": [
       "Text(0.5, 1.0, 'Precision-Recall For RandomForestClassifier')"
      ]
     },
     "execution_count": 220,
     "metadata": {},
     "output_type": "execute_result"
    },
    {
     "data": {
      "image/png": "[encoded data removed]",
      "text/plain": [
       "<Figure size 720x360 with 1 Axes>"
      ]
     },
     "metadata": {
      "needs_background": "light"
     },
     "output_type": "display_data"
    }
   ],
   "source": [
    "# using the precision-recall curve\n",
    "\n",
    "# using a dummy for no-skill\n",
    "from sklearn.dummy import DummyClassifier\n",
    "from sklearn.metrics import precision_recall_curve, precision_recall_fscore_support\n",
    "dummy = DummyClassifier()\n",
    "dummy.fit(X_train2, y_train2)\n",
    "yhat = dummy.predict_proba(X_test2)[:,1]\n",
    "precision, recall, threshold = precision_recall_curve(y_test2, yhat)\n",
    "pr_auc_dummy = auc(recall, precision)\n",
    "print(f\"Dummy auc is {pr_auc_dummy}.\")\n",
    "\n",
    "# for the actual data\n",
    "precision, recall, threshold = precision_recall_curve(y_test2, y_pred2)\n",
    "pr_auc = auc(recall, precision)\n",
    "\n",
    "# plot\n",
    "# calculate the dummy line as the proportion of the positive class\n",
    "dummy = len(y_test2[y_test2==1]) / len(y_test2)\n",
    "plt.figure(figsize=(10,5))\n",
    "plt.plot(recall,precision,'b',label='AUC = %0.2f'% pr_auc)\n",
    "plt.plot([0,1],[dummy,dummy],'k--', label= \"Dummy = %0.2f\"% pr_auc_dummy)  \n",
    "plt.legend(loc='upper right')\n",
    "plt.xlabel('Recall')\n",
    "plt.ylabel('Precision')\n",
    "plt.title(\"Precision-Recall For RandomForestClassifier\")"
   ]
  },
  {
   "cell_type": "code",
   "execution_count": 122,
   "metadata": {},
   "outputs": [
    {
     "name": "stderr",
     "output_type": "stream",
     "text": [
      "/home/han/anaconda3/lib/python3.7/site-packages/IPython/core/interactiveshell.py:3326: PerformanceWarning: \n",
      "your performance may suffer as PyTables will pickle object types that it cannot\n",
      "map directly to c-types [inferred_type->mixed,key->values] [items->None]\n",
      "\n",
      "  exec(code_obj, self.user_global_ns, self.user_ns)\n"
     ]
    }
   ],
   "source": [
    "backup[\"grid_lr\"] = pd.Series(grid_lr)"
   ]
  },
  {
   "cell_type": "markdown",
   "metadata": {},
   "source": [
    "## Save outputs"
   ]
  },
  {
   "cell_type": "code",
   "execution_count": 122,
   "metadata": {},
   "outputs": [
    {
     "name": "stdout",
     "output_type": "stream",
     "text": [
      "[NbConvertApp] Converting notebook Challenge.ipynb to html\n",
      "[NbConvertApp] Writing 332080 bytes to Challenge.html\n"
     ]
    }
   ],
   "source": [
    "!jupyter nbconvert --to html Challenge.ipynb"
   ]
  }
 ],
 "metadata": {
  "kernelspec": {
   "display_name": "Python 3",
   "language": "python",
   "name": "python3"
  },
  "language_info": {
   "codemirror_mode": {
    "name": "ipython",
    "version": 3
   },
   "file_extension": ".py",
   "mimetype": "text/x-python",
   "name": "python",
   "nbconvert_exporter": "python",
   "pygments_lexer": "ipython3",
   "version": "3.7.4"
  }
 },
 "nbformat": 4,
 "nbformat_minor": 4
}
